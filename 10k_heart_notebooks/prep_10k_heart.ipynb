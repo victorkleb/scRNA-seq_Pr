{
 "cells": [
  {
   "cell_type": "code",
   "execution_count": 1,
   "id": "958be615",
   "metadata": {},
   "outputs": [],
   "source": [
    "# prep_10k_heart Jupyter notebook\n",
    "\n",
    "\n",
    "import pandas as pd\n",
    "import numpy  as np \n",
    " \n",
    "from pathlib import Path\n",
    "\n",
    "from scipy.io import mmread\n",
    "\n",
    "\n",
    "pd.set_option('display.max_columns', 5)"
   ]
  },
  {
   "cell_type": "code",
   "execution_count": 2,
   "id": "bfa13866",
   "metadata": {},
   "outputs": [],
   "source": [
    "#### user specified\n",
    "data_folder = r\"D:/analyze_Pearson_residuals/\"\n",
    "\n",
    "data_subfolder = \"10k_heart\"\n",
    "\n",
    "data_path = Path ( data_folder + data_subfolder )\n",
    "\n",
    "clusters_folder = data_folder + data_subfolder + \"/clustering/kmeans_10_clusters\" \n",
    "clusters_path = Path ( clusters_folder )"
   ]
  },
  {
   "cell_type": "code",
   "execution_count": 3,
   "id": "e3b2f9e5",
   "metadata": {},
   "outputs": [],
   "source": [
    "counts_pkl = \"counts_sparse.pkl\" # sparse Pandas data frame: cells in columns; genes in rows\n",
    "clusters_pkl = \"clusters.pkl\"\n",
    "\n",
    "\n",
    "matrix_mtx = \"matrix.mtx\"\n",
    "genes_tsv  = \"features.tsv\"\n",
    "cells_tsv = \"barcodes.tsv\"\n",
    "\n",
    "clusters_csv = \"clusters.csv\"\n",
    "\n",
    "\n",
    "# pkl outputs\n",
    "counts_dsn = data_path / counts_pkl\n",
    "clusters_out_dsn = data_path / clusters_pkl\n",
    "\n",
    "\n",
    "# inputs\n",
    "matrix_dsn  = data_path / matrix_mtx\n",
    "genes_dsn = data_path / genes_tsv\n",
    "cells_dsn = data_path / cells_tsv\n",
    "clusters_in_dsn = clusters_path / clusters_csv"
   ]
  },
  {
   "cell_type": "code",
   "execution_count": 4,
   "id": "0344d5a0",
   "metadata": {},
   "outputs": [],
   "source": [
    "pctl_list = [.01,.05, .10, .25, .5, .75, .90, .95, .96, .97, .98, .99, .995, .999 ]"
   ]
  },
  {
   "cell_type": "code",
   "execution_count": 5,
   "id": "69cd08bd",
   "metadata": {},
   "outputs": [
    {
     "name": "stdout",
     "output_type": "stream",
     "text": [
      " df_clusters \n",
      "                     Cluster\n",
      "Barcode                    \n",
      "AAACCCAAGCGAGTCA-1        3\n",
      "AAACCCAAGGTCATTC-1        6\n",
      "AAACCCACACTGTGTA-1        5\n",
      "AAACCCACATATCTGG-1        5\n",
      "AAACCCACATCAACCA-1        9\n",
      "...                     ...\n",
      "TTTGGTTTCTGTACAG-1        1\n",
      "TTTGTTGAGCTTTCCC-1        3\n",
      "TTTGTTGGTGCTCTCT-1        1\n",
      "TTTGTTGTCCCAGGAC-1        7\n",
      "TTTGTTGTCTTCGACC-1        3\n",
      "\n",
      "[7713 rows x 1 columns]\n",
      "\n",
      "\n",
      " df_clusters.value_counts \n",
      "\n",
      "1     1899\n",
      "2     1542\n",
      "3     1456\n",
      "4     1147\n",
      "5      477\n",
      "6      420\n",
      "7      279\n",
      "8      261\n",
      "9      227\n",
      "10       5\n",
      "Name: Cluster, dtype: int64\n"
     ]
    }
   ],
   "source": [
    "df_clusters = pd.read_csv ( clusters_in_dsn  )\n",
    "df_clusters.set_index ( ['Barcode'], inplace=True )\n",
    "print ( ' df_clusters \\n', df_clusters )\n",
    "print ( '\\n\\n df_clusters.value_counts \\n' )\n",
    "print ( df_clusters['Cluster'].value_counts() )"
   ]
  },
  {
   "cell_type": "code",
   "execution_count": 6,
   "id": "31a6e877",
   "metadata": {},
   "outputs": [
    {
     "name": "stdout",
     "output_type": "stream",
     "text": [
      " df_genes \n",
      "\n",
      "                ENSEMBL_ID     gene_symbol\n",
      "0      ENSMUSG00000051951            Xkr4\n",
      "1      ENSMUSG00000089699          Gm1992\n",
      "2      ENSMUSG00000102343         Gm37381\n",
      "3      ENSMUSG00000025900             Rp1\n",
      "4      ENSMUSG00000025902           Sox17\n",
      "...                   ...             ...\n",
      "31048  ENSMUSG00000079808      AC168977.1\n",
      "31049  ENSMUSG00000095041      AC149090.1\n",
      "31050  ENSMUSG00000063897  CAAA01118383.1\n",
      "31051  ENSMUSG00000096730        Vmn2r122\n",
      "31052  ENSMUSG00000095742  CAAA01147332.1\n",
      "\n",
      "[31053 rows x 2 columns]\n"
     ]
    }
   ],
   "source": [
    "df_genes = pd.read_csv ( genes_dsn, sep='\\t', names = ['ENSEMBL_ID','gene_symbol'], usecols =[0,1] ) \n",
    "print (  ' df_genes \\n\\n', df_genes)"
   ]
  },
  {
   "cell_type": "code",
   "execution_count": 7,
   "id": "cf04a3f8",
   "metadata": {},
   "outputs": [
    {
     "name": "stdout",
     "output_type": "stream",
     "text": [
      " df_cells \n",
      "\n",
      "                 barcodes\n",
      "0     AAACCCAAGCGAGTCA-1\n",
      "1     AAACCCAAGGTCATTC-1\n",
      "2     AAACCCACACTGTGTA-1\n",
      "3     AAACCCACATATCTGG-1\n",
      "4     AAACCCACATCAACCA-1\n",
      "...                  ...\n",
      "7708  TTTGGTTTCTGTACAG-1\n",
      "7709  TTTGTTGAGCTTTCCC-1\n",
      "7710  TTTGTTGGTGCTCTCT-1\n",
      "7711  TTTGTTGTCCCAGGAC-1\n",
      "7712  TTTGTTGTCTTCGACC-1\n",
      "\n",
      "[7713 rows x 1 columns]\n",
      " len(barcode_list): \n",
      "\n",
      " 7713\n"
     ]
    }
   ],
   "source": [
    "# read barcodes - to index sparse Pandas data frame containing UMI counts\n",
    "df_cells = pd.read_csv ( cells_dsn, sep='\\t', names = ['barcodes'] ) \n",
    "print (  ' df_cells \\n\\n', df_cells )\n",
    "\n",
    "barcode_list = df_cells['barcodes'].values.tolist()\n",
    "print (  ' len(barcode_list): \\n\\n', len(barcode_list))"
   ]
  },
  {
   "cell_type": "code",
   "execution_count": 8,
   "id": "c075f414",
   "metadata": {},
   "outputs": [
    {
     "name": "stdout",
     "output_type": "stream",
     "text": [
      " nonzero_row.sum: \n",
      "\n",
      " 22621\n"
     ]
    }
   ],
   "source": [
    "X = mmread( matrix_dsn ).astype( int )\n",
    "X = X.tocsr()\n",
    "\n",
    "X_GT_0 = ( X > 0 )\n",
    "row_nonzero_count = X_GT_0.sum ( axis = 1 ) \n",
    "\n",
    "\n",
    "####  exclude genes with no nonzero counts\n",
    "nonzero_row = ( row_nonzero_count >= 1 ) \n",
    "print (  ' nonzero_row.sum: \\n\\n', nonzero_row.sum())"
   ]
  },
  {
   "cell_type": "code",
   "execution_count": 9,
   "id": "8484b940",
   "metadata": {},
   "outputs": [
    {
     "name": "stdout",
     "output_type": "stream",
     "text": [
      " index_nonzero_rows: [    0     2     3 ... 31049 31050 31052]\n",
      "\n",
      " df_genes_sel \n",
      "\n",
      "                ENSEMBL_ID     gene_symbol\n",
      "0      ENSMUSG00000051951            Xkr4\n",
      "2      ENSMUSG00000102343         Gm37381\n",
      "3      ENSMUSG00000025900             Rp1\n",
      "4      ENSMUSG00000025902           Sox17\n",
      "6      ENSMUSG00000033845          Mrpl15\n",
      "...                   ...             ...\n",
      "31041  ENSMUSG00000079800      AC125149.3\n",
      "31048  ENSMUSG00000079808      AC168977.1\n",
      "31049  ENSMUSG00000095041      AC149090.1\n",
      "31050  ENSMUSG00000063897  CAAA01118383.1\n",
      "31052  ENSMUSG00000095742  CAAA01147332.1\n",
      "\n",
      "[22621 rows x 2 columns]\n"
     ]
    }
   ],
   "source": [
    "index_nonzero_rows = np.where( nonzero_row )[0]\n",
    "print (  ' index_nonzero_rows:', index_nonzero_rows )\n",
    "\n",
    "df_genes_sel = df_genes.iloc [ index_nonzero_rows ]\n",
    "print (  '\\n df_genes_sel \\n\\n', df_genes_sel)"
   ]
  },
  {
   "cell_type": "code",
   "execution_count": 10,
   "id": "726b1bf2",
   "metadata": {},
   "outputs": [
    {
     "name": "stdout",
     "output_type": "stream",
     "text": [
      " df_counts_sel:                     AAACCCAAGCGAGTCA-1  AAACCCAAGGTCATTC-1  ...  \\\n",
      "ENSEMBL_ID                                                  ...   \n",
      "ENSMUSG00000051951                   0                   0  ...   \n",
      "ENSMUSG00000102343                   0                   0  ...   \n",
      "ENSMUSG00000025900                   0                   0  ...   \n",
      "ENSMUSG00000025902                   0                   0  ...   \n",
      "ENSMUSG00000033845                   0                   1  ...   \n",
      "...                                ...                 ...  ...   \n",
      "ENSMUSG00000079800                   0                   0  ...   \n",
      "ENSMUSG00000079808                   0                   0  ...   \n",
      "ENSMUSG00000095041                   0                   0  ...   \n",
      "ENSMUSG00000063897                   0                   0  ...   \n",
      "ENSMUSG00000095742                   0                   0  ...   \n",
      "\n",
      "                    TTTGTTGTCCCAGGAC-1  TTTGTTGTCTTCGACC-1  \n",
      "ENSEMBL_ID                                                  \n",
      "ENSMUSG00000051951                   0                   0  \n",
      "ENSMUSG00000102343                   0                   0  \n",
      "ENSMUSG00000025900                   0                   0  \n",
      "ENSMUSG00000025902                   0                   0  \n",
      "ENSMUSG00000033845                   0                   0  \n",
      "...                                ...                 ...  \n",
      "ENSMUSG00000079800                   0                   0  \n",
      "ENSMUSG00000079808                   0                   0  \n",
      "ENSMUSG00000095041                   0                   0  \n",
      "ENSMUSG00000063897                   0                   0  \n",
      "ENSMUSG00000095742                   0                   0  \n",
      "\n",
      "[22621 rows x 7713 columns]\n",
      "\n",
      " type( df_counts_sel ) <class 'pandas.core.frame.DataFrame'>\n",
      "\n",
      " df_counts_sel.sparse.density:   0.10918232756590222\n"
     ]
    }
   ],
   "source": [
    "X_sel = X[ index_nonzero_rows, : ]\n",
    "\n",
    "df_counts_sel =  pd.DataFrame.sparse.from_spmatrix(X_sel, index=df_genes_sel['ENSEMBL_ID'], columns=barcode_list )\n",
    "print (  ' df_counts_sel:', df_counts_sel)\n",
    "\n",
    "print (  '\\n type( df_counts_sel )' , type ( df_counts_sel ))\n",
    "\n",
    "print (  '\\n df_counts_sel.sparse.density:  ', df_counts_sel.sparse.density)"
   ]
  },
  {
   "cell_type": "code",
   "execution_count": 11,
   "id": "2ae09ab2",
   "metadata": {},
   "outputs": [
    {
     "name": "stdout",
     "output_type": "stream",
     "text": [
      " ser_cell_totals.describe:\n",
      "count      7713.000000\n",
      "mean      10932.245170\n",
      "std       12011.192077\n",
      "min         500.000000\n",
      "1%          546.120000\n",
      "5%          736.600000\n",
      "10%        1124.200000\n",
      "25%        2485.000000\n",
      "50%        6379.000000\n",
      "75%       15747.000000\n",
      "90%       27575.400000\n",
      "95%       35078.800000\n",
      "96%       37300.800000\n",
      "97%       39981.840000\n",
      "98%       43651.840000\n",
      "99%       50539.680000\n",
      "99.5%     57875.000000\n",
      "99.9%     88427.008000\n",
      "max      139767.000000\n",
      "dtype: float64\n",
      "\n",
      "\n",
      " ser_cell_totals_GT_0.describe:\n",
      "count      7713.000000\n",
      "mean      10932.245170\n",
      "std       12011.192077\n",
      "min         500.000000\n",
      "1%          546.120000\n",
      "5%          736.600000\n",
      "10%        1124.200000\n",
      "25%        2485.000000\n",
      "50%        6379.000000\n",
      "75%       15747.000000\n",
      "90%       27575.400000\n",
      "95%       35078.800000\n",
      "96%       37300.800000\n",
      "97%       39981.840000\n",
      "98%       43651.840000\n",
      "99%       50539.680000\n",
      "99.5%     57875.000000\n",
      "99.9%     88427.008000\n",
      "max      139767.000000\n",
      "dtype: float64\n"
     ]
    }
   ],
   "source": [
    "# verify that all cells have nonzero total count\n",
    "ser_cell_totals = df_counts_sel.sum ( axis=0 ) \n",
    "print (  ' ser_cell_totals.describe:')\n",
    "print ( ser_cell_totals.describe( percentiles = pctl_list ) )\n",
    "\n",
    "ser_cell_totals_GT_0 = ser_cell_totals.loc [ ser_cell_totals > 0 ]\n",
    "print (  '\\n\\n ser_cell_totals_GT_0.describe:' )\n",
    "print ( ser_cell_totals_GT_0.describe( percentiles = pctl_list ) )"
   ]
  },
  {
   "cell_type": "code",
   "execution_count": 12,
   "id": "50f2164c",
   "metadata": {},
   "outputs": [
    {
     "name": "stdout",
     "output_type": "stream",
     "text": [
      " df_counts_sparse:\n",
      "                    AAACCCAAGCGAGTCA-1  AAACCCAAGGTCATTC-1  ...  \\\n",
      "ENSEMBL_ID                                                  ...   \n",
      "ENSMUSG00000051951                   0                   0  ...   \n",
      "ENSMUSG00000102343                   0                   0  ...   \n",
      "ENSMUSG00000025900                   0                   0  ...   \n",
      "ENSMUSG00000025902                   0                   0  ...   \n",
      "ENSMUSG00000033845                   0                   1  ...   \n",
      "...                                ...                 ...  ...   \n",
      "ENSMUSG00000079800                   0                   0  ...   \n",
      "ENSMUSG00000079808                   0                   0  ...   \n",
      "ENSMUSG00000095041                   0                   0  ...   \n",
      "ENSMUSG00000063897                   0                   0  ...   \n",
      "ENSMUSG00000095742                   0                   0  ...   \n",
      "\n",
      "                    TTTGTTGTCCCAGGAC-1  TTTGTTGTCTTCGACC-1  \n",
      "ENSEMBL_ID                                                  \n",
      "ENSMUSG00000051951                   0                   0  \n",
      "ENSMUSG00000102343                   0                   0  \n",
      "ENSMUSG00000025900                   0                   0  \n",
      "ENSMUSG00000025902                   0                   0  \n",
      "ENSMUSG00000033845                   0                   0  \n",
      "...                                ...                 ...  \n",
      "ENSMUSG00000079800                   0                   0  \n",
      "ENSMUSG00000079808                   0                   0  \n",
      "ENSMUSG00000095041                   0                   0  \n",
      "ENSMUSG00000063897                   0                   0  \n",
      "ENSMUSG00000095742                   0                   0  \n",
      "\n",
      "[22621 rows x 7713 columns]\n",
      "\n",
      " type( df_counts_sparse )  <class 'pandas.core.frame.DataFrame'>\n",
      "\n",
      " df_counts_sparse.sparse.density:  0.10918232756590222\n",
      "\n",
      "\n",
      " ser_cell_totals:\n",
      "AAACCCAAGCGAGTCA-1     1475\n",
      "AAACCCAAGGTCATTC-1    17009\n",
      "AAACCCACACTGTGTA-1     8652\n",
      "AAACCCACATATCTGG-1    36207\n",
      "AAACCCACATCAACCA-1    35433\n",
      "                      ...  \n",
      "TTTGGTTTCTGTACAG-1    12879\n",
      "TTTGTTGAGCTTTCCC-1     4578\n",
      "TTTGTTGGTGCTCTCT-1    29196\n",
      "TTTGTTGTCCCAGGAC-1    15148\n",
      "TTTGTTGTCTTCGACC-1     5397\n",
      "Length: 7713, dtype: int32\n",
      "\n",
      " ser_cell_totals.describe:\n",
      "count      7713.000000\n",
      "mean      10932.245170\n",
      "std       12011.192077\n",
      "min         500.000000\n",
      "1%          546.120000\n",
      "5%          736.600000\n",
      "10%        1124.200000\n",
      "25%        2485.000000\n",
      "50%        6379.000000\n",
      "75%       15747.000000\n",
      "90%       27575.400000\n",
      "95%       35078.800000\n",
      "96%       37300.800000\n",
      "97%       39981.840000\n",
      "98%       43651.840000\n",
      "99%       50539.680000\n",
      "99.5%     57875.000000\n",
      "99.9%     88427.008000\n",
      "max      139767.000000\n",
      "dtype: float64\n"
     ]
    }
   ],
   "source": [
    "df_counts_sparse = df_counts_sel[ ser_cell_totals_GT_0.index ]\n",
    "print (  ' df_counts_sparse:' )\n",
    "print (  df_counts_sparse )\n",
    "print (  '\\n type( df_counts_sparse ) ', type ( df_counts_sparse ))\n",
    "print (  '\\n df_counts_sparse.sparse.density: ', df_counts_sparse.sparse.density)\n",
    "\n",
    "ser_cell_totals = df_counts_sparse.sum ( axis=0 )\n",
    "print (  '\\n\\n ser_cell_totals:' )\n",
    "print (  ser_cell_totals )\n",
    "print (  '\\n ser_cell_totals.describe:')\n",
    "print ( ser_cell_totals.describe( percentiles = pctl_list ))"
   ]
  },
  {
   "cell_type": "code",
   "execution_count": 13,
   "id": "0f3f61df",
   "metadata": {},
   "outputs": [],
   "source": [
    "df_counts_sparse.to_pickle ( counts_dsn )\n",
    "df_clusters.to_pickle ( clusters_out_dsn )"
   ]
  },
  {
   "cell_type": "code",
   "execution_count": null,
   "id": "a01fe938",
   "metadata": {},
   "outputs": [],
   "source": []
  }
 ],
 "metadata": {
  "kernelspec": {
   "display_name": "Python 3 (ipykernel)",
   "language": "python",
   "name": "python3"
  },
  "language_info": {
   "codemirror_mode": {
    "name": "ipython",
    "version": 3
   },
   "file_extension": ".py",
   "mimetype": "text/x-python",
   "name": "python",
   "nbconvert_exporter": "python",
   "pygments_lexer": "ipython3",
   "version": "3.9.13"
  }
 },
 "nbformat": 4,
 "nbformat_minor": 5
}
