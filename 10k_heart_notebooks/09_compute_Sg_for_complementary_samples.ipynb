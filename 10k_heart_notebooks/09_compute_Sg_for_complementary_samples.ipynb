{
 "cells": [
  {
   "cell_type": "code",
   "execution_count": 1,
   "id": "9f3f0298",
   "metadata": {},
   "outputs": [
    {
     "name": "stderr",
     "output_type": "stream",
     "text": [
      "Attaching SeuratObject\n",
      "\n"
     ]
    }
   ],
   "source": [
    "library(reticulate) \n",
    "library(Seurat)"
   ]
  },
  {
   "cell_type": "code",
   "execution_count": 2,
   "id": "8894d462",
   "metadata": {},
   "outputs": [],
   "source": [
    "#### user specified\n",
    "\n",
    "data_folder = \"D:/analyze_Pearson_residuals/\"\n",
    "data_subfolder = \"10k_heart\"\n",
    "\n",
    "data_path  <- paste0 ( data_folder, data_subfolder )"
   ]
  },
  {
   "cell_type": "code",
   "execution_count": 3,
   "id": "cb2ba2a4",
   "metadata": {},
   "outputs": [],
   "source": [
    "# output data\n",
    "residual_variance_pkl = \"Sg_complementary_samples.pkl\"\n",
    "\n",
    "# input data\n",
    "gene_array_pkl  = \"gene_array.pkl\"\n",
    "cell_array_pkl  = \"cell_array.pkl\"\n",
    "counts_pkl = \"counts_scipy_csc.pkl\"\n",
    "\n",
    "selected_genes_array_pkl  = \"gene_array_complementary_samples.pkl\"\n",
    "df_selected_cells_pkl  = \"df_cells_complementary_samples.pkl\" \n",
    "\n",
    "\n",
    "\n",
    "# path: output data\n",
    "residual_variance_dsn    <- paste0 ( data_path, '/', residual_variance_pkl )\n",
    "\n",
    "\n",
    "# paths: input data\n",
    "gene_array_dsn    <- paste0 ( data_path, '/', gene_array_pkl )\n",
    "cell_array_dsn   <- paste0 ( data_path, '/', cell_array_pkl )\n",
    "counts_dsn    <- paste0 ( data_path, '/', counts_pkl )\n",
    "\n",
    "selected_genes_array_dsn <- paste0 ( data_path, '/', selected_genes_array_pkl )\n",
    "df_selected_cells_dsn  <- paste0 ( data_path, '/', df_selected_cells_pkl )"
   ]
  },
  {
   "cell_type": "code",
   "execution_count": 4,
   "id": "2b26145d",
   "metadata": {},
   "outputs": [
    {
     "name": "stdout",
     "output_type": "stream",
     "text": [
      "[1] 14472\n",
      "[1] \"ENSMUSG00000052305\" \"ENSMUSG00000069919\" \"ENSMUSG00000073940\"\n",
      "[4] \"ENSMUSG00000069917\" \"ENSMUSG00000038791\" \"ENSMUSG00000041616\"\n"
     ]
    }
   ],
   "source": [
    "gene_array = py_load_object ( gene_array_dsn )\n",
    "print ( dim ( gene_array ) )\n",
    "print ( head ( gene_array ) )"
   ]
  },
  {
   "cell_type": "code",
   "execution_count": 5,
   "id": "72766343",
   "metadata": {},
   "outputs": [
    {
     "name": "stdout",
     "output_type": "stream",
     "text": [
      "[1] 7713\n",
      "[1] \"AAACCCAAGCGAGTCA-1\" \"AAACCCAAGGTCATTC-1\" \"AAACCCACACTGTGTA-1\"\n",
      "[4] \"AAACCCACATATCTGG-1\" \"AAACCCACATCAACCA-1\" \"AAACCCACATGTGCCG-1\"\n"
     ]
    }
   ],
   "source": [
    "cell_array = py_load_object ( cell_array_dsn )\n",
    "print ( dim ( cell_array ) )\n",
    "print ( head ( cell_array ) )"
   ]
  },
  {
   "cell_type": "code",
   "execution_count": 6,
   "id": "bc502f2a",
   "metadata": {},
   "outputs": [
    {
     "name": "stdout",
     "output_type": "stream",
     "text": [
      "[1] 14472  7713\n",
      "6 x 5 sparse Matrix of class \"dgCMatrix\"\n",
      "                   AAACCCAAGCGAGTCA-1 AAACCCAAGGTCATTC-1 AAACCCACACTGTGTA-1\n",
      "ENSMUSG00000052305                823                  3                  .\n",
      "ENSMUSG00000069919                268                  .                  .\n",
      "ENSMUSG00000073940                 33                  .                  .\n",
      "ENSMUSG00000069917                165                  .                  .\n",
      "ENSMUSG00000038791                  .                  1                  .\n",
      "ENSMUSG00000041616                  .                  .                  .\n",
      "                   AAACCCACATATCTGG-1 AAACCCACATCAACCA-1\n",
      "ENSMUSG00000052305                  1                  4\n",
      "ENSMUSG00000069919                  .                  .\n",
      "ENSMUSG00000073940                  1                  .\n",
      "ENSMUSG00000069917                  .                  .\n",
      "ENSMUSG00000038791                  .                  1\n",
      "ENSMUSG00000041616                  4                  .\n"
     ]
    }
   ],
   "source": [
    "df_counts = py_load_object( counts_dsn ) \n",
    "\n",
    "rownames(df_counts) <- gene_array\n",
    "colnames(df_counts) <- cell_array\n",
    "rm ( gene_array, cell_array )\n",
    "\n",
    "print ( dim ( df_counts ) )\n",
    "print ( head (df_counts [, c(1:5)] ) )"
   ]
  },
  {
   "cell_type": "code",
   "execution_count": 7,
   "id": "6ae85c5c",
   "metadata": {},
   "outputs": [
    {
     "name": "stdout",
     "output_type": "stream",
     "text": [
      "[1] 7713    2\n",
      "                       0     1\n",
      "AAACCCAAGCGAGTCA-1 FALSE  TRUE\n",
      "AAACCCAAGGTCATTC-1  TRUE FALSE\n",
      "AAACCCACACTGTGTA-1  TRUE FALSE\n",
      "AAACCCACATATCTGG-1  TRUE FALSE\n",
      "AAACCCACATCAACCA-1 FALSE  TRUE\n",
      "AAACCCACATGTGCCG-1  TRUE FALSE\n"
     ]
    }
   ],
   "source": [
    "selected_genes_array = py_load_object ( selected_genes_array_dsn )\n",
    "\n",
    "df_selected_cells = py_load_object ( df_selected_cells_dsn )\n",
    "print ( dim ( df_selected_cells ) )\n",
    "print ( head ( df_selected_cells ) )\n",
    "\n",
    "rownames_selected_cells = rownames ( df_selected_cells )"
   ]
  },
  {
   "cell_type": "code",
   "execution_count": 8,
   "id": "53c5efe3",
   "metadata": {},
   "outputs": [
    {
     "name": "stdout",
     "output_type": "stream",
     "text": [
      "[1] 14472  7713\n",
      "6 x 5 sparse Matrix of class \"dgCMatrix\"\n",
      "                   AAACCCAAGCGAGTCA-1 AAACCCAAGGTCATTC-1 AAACCCACACTGTGTA-1\n",
      "ENSMUSG00000052305                823                  3                  .\n",
      "ENSMUSG00000069919                268                  .                  .\n",
      "ENSMUSG00000073940                 33                  .                  .\n",
      "ENSMUSG00000069917                165                  .                  .\n",
      "ENSMUSG00000038791                  .                  1                  .\n",
      "ENSMUSG00000041616                  .                  .                  .\n",
      "                   AAACCCACATATCTGG-1 AAACCCACATCAACCA-1\n",
      "ENSMUSG00000052305                  1                  4\n",
      "ENSMUSG00000069919                  .                  .\n",
      "ENSMUSG00000073940                  1                  .\n",
      "ENSMUSG00000069917                  .                  .\n",
      "ENSMUSG00000038791                  .                  1\n",
      "ENSMUSG00000041616                  4                  .\n"
     ]
    }
   ],
   "source": [
    "df_counts_selected_cells = df_counts[,rownames_selected_cells]\n",
    "rm ( df_counts )\n",
    "print ( dim ( df_counts_selected_cells ) )\n",
    "print ( head ( df_counts_selected_cells  [, c(1:5)] ) )"
   ]
  },
  {
   "cell_type": "code",
   "execution_count": 9,
   "id": "01b6f038",
   "metadata": {},
   "outputs": [
    {
     "name": "stdout",
     "output_type": "stream",
     "text": [
      "[1] 12995  7713\n",
      "6 x 5 sparse Matrix of class \"dgCMatrix\"\n",
      "                   AAACCCAAGCGAGTCA-1 AAACCCAAGGTCATTC-1 AAACCCACACTGTGTA-1\n",
      "ENSMUSG00000052305                823                  3                  .\n",
      "ENSMUSG00000069919                268                  .                  .\n",
      "ENSMUSG00000073940                 33                  .                  .\n",
      "ENSMUSG00000069917                165                  .                  .\n",
      "ENSMUSG00000038791                  .                  1                  .\n",
      "ENSMUSG00000041616                  .                  .                  .\n",
      "                   AAACCCACATATCTGG-1 AAACCCACATCAACCA-1\n",
      "ENSMUSG00000052305                  1                  4\n",
      "ENSMUSG00000069919                  .                  .\n",
      "ENSMUSG00000073940                  1                  .\n",
      "ENSMUSG00000069917                  .                  .\n",
      "ENSMUSG00000038791                  .                  1\n",
      "ENSMUSG00000041616                  4                  .\n"
     ]
    }
   ],
   "source": [
    "df_counts_selected = df_counts_selected_cells [ rownames ( df_counts_selected_cells ) %in% selected_genes_array, ]  \n",
    "rm ( df_counts_selected_cells )\n",
    "print ( dim ( df_counts_selected ) )\n",
    "print ( head ( df_counts_selected  [, c(1:5)] ) )"
   ]
  },
  {
   "cell_type": "code",
   "execution_count": 10,
   "id": "5422ca29",
   "metadata": {},
   "outputs": [
    {
     "name": "stdout",
     "output_type": "stream",
     "text": [
      "[1] \"sample: 1\"\n",
      "[1] \"dim ( df_counts_select_sample ): 12995\"\n",
      "[2] \"dim ( df_counts_select_sample ): 3919\" \n",
      "[1] 12995  3919\n",
      "[1] \"dim ( seurat_object ): 12995\" \"dim ( seurat_object ): 3919\" \n"
     ]
    },
    {
     "name": "stderr",
     "output_type": "stream",
     "text": [
      "vst.flavor='v2' set, setting model to use fixed slope and exclude poisson genes.\n",
      "\n",
      "Calculating cell attributes from input UMI matrix: log_umi\n",
      "\n",
      "Total Step 1 genes: 12995\n",
      "\n",
      "Total overdispersed genes: 12963\n",
      "\n",
      "Excluding 32 genes from Step 1 because they are not overdispersed.\n",
      "\n",
      "Variance stabilizing transformation of count matrix of size 12995 by 3919\n",
      "\n",
      "Model formula is y ~ log_umi\n",
      "\n",
      "Get Negative Binomial regression parameters per gene\n",
      "\n",
      "Using 2000 genes, 3919 cells\n",
      "\n"
     ]
    },
    {
     "name": "stdout",
     "output_type": "stream",
     "text": [
      "  |======================================================================| 100%\n"
     ]
    },
    {
     "name": "stderr",
     "output_type": "stream",
     "text": [
      "Setting estimate of  14 genes to inf as theta_mm/theta_mle < 1e-3\n",
      "\n",
      "# of step1 poisson genes (variance < mean): 0\n",
      "\n",
      "# of low mean genes (mean < 0.001): 0\n",
      "\n",
      "Total # of Step1 poisson genes (theta=Inf; variance < mean): 14\n",
      "\n",
      "Total # of poisson genes (theta=Inf; variance < mean): 32\n",
      "\n",
      "Calling offset model for all 32 poisson genes\n",
      "\n",
      "Found 45 outliers - those will be ignored in fitting/regularization step\n",
      "\n",
      "\n",
      "Ignoring theta inf genes\n",
      "\n",
      "Replacing fit params for 32 poisson genes by theta=Inf\n",
      "\n",
      "Setting min_variance based on median UMI:  0.04\n",
      "\n",
      "Second step: Get residuals using fitted parameters for 12995 genes\n",
      "\n"
     ]
    },
    {
     "name": "stdout",
     "output_type": "stream",
     "text": [
      "  |======================================================================| 100%\n"
     ]
    },
    {
     "name": "stderr",
     "output_type": "stream",
     "text": [
      "Computing corrected count matrix for 12995 genes\n",
      "\n"
     ]
    },
    {
     "name": "stdout",
     "output_type": "stream",
     "text": [
      "  |======================================================================| 100%\n"
     ]
    },
    {
     "name": "stderr",
     "output_type": "stream",
     "text": [
      "Calculating gene attributes\n",
      "\n",
      "Wall clock passed: Time difference of 26.63454 secs\n",
      "\n",
      "Determine variable features\n",
      "\n",
      "Place corrected count matrix in counts slot\n",
      "\n",
      "Centering data matrix\n",
      "\n",
      "Set default assay to SCT\n",
      "\n"
     ]
    },
    {
     "name": "stdout",
     "output_type": "stream",
     "text": [
      "[1] \"head ( df_residual_variance ): c(\\\"ENSMUSG00000052305\\\", \\\"ENSMUSG00000069919\\\", \\\"ENSMUSG00000073940\\\", \\\"ENSMUSG00000069917\\\", \\\"ENSMUSG00000038791\\\", \\\"ENSMUSG00000041616\\\")\"\n",
      "[2] \"head ( df_residual_variance ): c(485.863754157298, 475.510626155345, 385.034146465051, 469.77741059485, 8.97783521463509, 72.5389830494749)\"                                     \n",
      "[1] \"dim ( df_residual_variance ): 12995\" \"dim ( df_residual_variance ): 2\"    \n",
      "[1] \"--------------------------------------------------------\"\n",
      "[1] \"sample: 2\"\n",
      "[1] \"dim ( df_counts_select_sample ): 12995\"\n",
      "[2] \"dim ( df_counts_select_sample ): 3794\" \n",
      "[1] 12995  3794\n",
      "[1] \"dim ( seurat_object ): 12995\" \"dim ( seurat_object ): 3794\" \n"
     ]
    },
    {
     "name": "stderr",
     "output_type": "stream",
     "text": [
      "vst.flavor='v2' set, setting model to use fixed slope and exclude poisson genes.\n",
      "\n",
      "Calculating cell attributes from input UMI matrix: log_umi\n",
      "\n",
      "Total Step 1 genes: 12995\n",
      "\n",
      "Total overdispersed genes: 12971\n",
      "\n",
      "Excluding 24 genes from Step 1 because they are not overdispersed.\n",
      "\n",
      "Variance stabilizing transformation of count matrix of size 12995 by 3794\n",
      "\n",
      "Model formula is y ~ log_umi\n",
      "\n",
      "Get Negative Binomial regression parameters per gene\n",
      "\n",
      "Using 2000 genes, 3794 cells\n",
      "\n"
     ]
    },
    {
     "name": "stdout",
     "output_type": "stream",
     "text": [
      "  |======================================================================| 100%\n"
     ]
    },
    {
     "name": "stderr",
     "output_type": "stream",
     "text": [
      "Setting estimate of  13 genes to inf as theta_mm/theta_mle < 1e-3\n",
      "\n",
      "# of step1 poisson genes (variance < mean): 0\n",
      "\n",
      "# of low mean genes (mean < 0.001): 0\n",
      "\n",
      "Total # of Step1 poisson genes (theta=Inf; variance < mean): 13\n",
      "\n",
      "Total # of poisson genes (theta=Inf; variance < mean): 24\n",
      "\n",
      "Calling offset model for all 24 poisson genes\n",
      "\n",
      "Found 37 outliers - those will be ignored in fitting/regularization step\n",
      "\n",
      "\n",
      "Ignoring theta inf genes\n",
      "\n",
      "Replacing fit params for 24 poisson genes by theta=Inf\n",
      "\n",
      "Setting min_variance based on median UMI:  0.04\n",
      "\n",
      "Second step: Get residuals using fitted parameters for 12995 genes\n",
      "\n"
     ]
    },
    {
     "name": "stdout",
     "output_type": "stream",
     "text": [
      "  |======================================================================| 100%\n"
     ]
    },
    {
     "name": "stderr",
     "output_type": "stream",
     "text": [
      "Computing corrected count matrix for 12995 genes\n",
      "\n"
     ]
    },
    {
     "name": "stdout",
     "output_type": "stream",
     "text": [
      "  |======================================================================| 100%\n"
     ]
    },
    {
     "name": "stderr",
     "output_type": "stream",
     "text": [
      "Calculating gene attributes\n",
      "\n",
      "Wall clock passed: Time difference of 24.32034 secs\n",
      "\n",
      "Determine variable features\n",
      "\n",
      "Place corrected count matrix in counts slot\n",
      "\n",
      "Centering data matrix\n",
      "\n",
      "Set default assay to SCT\n",
      "\n"
     ]
    },
    {
     "name": "stdout",
     "output_type": "stream",
     "text": [
      "[1] \"head ( df_residual_variance ): c(\\\"ENSMUSG00000052305\\\", \\\"ENSMUSG00000069919\\\", \\\"ENSMUSG00000073940\\\", \\\"ENSMUSG00000069917\\\", \\\"ENSMUSG00000038791\\\", \\\"ENSMUSG00000041616\\\")\"\n",
      "[2] \"head ( df_residual_variance ): c(453.855440237947, 450.552117601969, 361.050870506398, 443.871645368363, 5.16101094610831, 65.2703612964483)\"                                    \n",
      "[1] \"dim ( df_residual_variance ): 12995\" \"dim ( df_residual_variance ): 2\"    \n",
      "[1] \"--------------------------------------------------------\"\n"
     ]
    }
   ],
   "source": [
    "# output data frames\n",
    "list_df_residual_variance = list()\n",
    "\n",
    "for ( sample in (1:2) )\n",
    "{\n",
    "  print ( paste ( 'sample:', sample ) )\n",
    "  df_sample = df_selected_cells[ sample ]\n",
    "  \n",
    "  colnames(df_sample)  <-'select'\n",
    "  vect_select = df_sample$select\n",
    "  \n",
    "  df_sample_new = data.frame ( rownames_selected_cells) \n",
    "  cells_select = df_sample_new[ vect_select, ]\n",
    "\n",
    "  df_counts_select_sample = df_counts_selected[, cells_select ]  \n",
    "  print ( paste ( \"dim ( df_counts_select_sample ):\",  dim ( df_counts_select_sample ) ) )\n",
    "\n",
    "  seurat_object <-  CreateSeuratObject(counts = df_counts_select_sample , project = data_subfolder )\n",
    "  print ( dim ( seurat_object ) )\n",
    "  print ( paste ( \"dim ( seurat_object ):\",  dim ( seurat_object ) ) )\n",
    "  \n",
    "  seurat_object <- SCTransform(seurat_object, vst.flavor=\"v2\", method = \"glmGamPoi\", variable.features.n=10 )\n",
    "\n",
    "  gene_list = seurat_object@assays$SCT@data@Dimnames[1]\n",
    "  gene_vector = unlist ( gene_list )\n",
    "\n",
    "  residual_variance = seurat_object@assays$SCT@SCTModel.list$model1@feature.attributes$residual_variance\n",
    "\n",
    "  df_residual_variance <- data.frame( gene_vector )\n",
    "  str_sample = as.character ( sample - 1 )\n",
    "  df_residual_variance[[ str_sample ]] = residual_variance\n",
    "  \n",
    "  print ( paste ( \"head ( df_residual_variance ):\", head ( df_residual_variance ) ) )  \n",
    "  \n",
    "  print ( paste ( \"dim ( df_residual_variance ):\",   dim ( df_residual_variance ) ) )  \n",
    "  print ( '--------------------------------------------------------'  ) \n",
    " \n",
    "  list_df_residual_variance[[ sample ]]  = df_residual_variance \n",
    "} "
   ]
  },
  {
   "cell_type": "code",
   "execution_count": 11,
   "id": "b0a01fe2",
   "metadata": {},
   "outputs": [
    {
     "name": "stdout",
     "output_type": "stream",
     "text": [
      "         gene_vector          0          1\n",
      "1 ENSMUSG00000000001  0.6435774  0.6745212\n",
      "2 ENSMUSG00000000028  0.9566533  0.9116582\n",
      "3 ENSMUSG00000000031 36.8947528 41.7027355\n",
      "4 ENSMUSG00000000037  0.2617622  0.3161400\n",
      "5 ENSMUSG00000000056  1.0293356  0.9308244\n",
      "6 ENSMUSG00000000058  1.7151442  1.8838529\n"
     ]
    }
   ],
   "source": [
    "df_residual_variance_return = merge ( list_df_residual_variance[[1]], list_df_residual_variance[[2]], by=c(\"gene_vector\") )\n",
    "print ( head ( df_residual_variance_return ) ) "
   ]
  },
  {
   "cell_type": "code",
   "execution_count": 12,
   "id": "c9edb02d",
   "metadata": {},
   "outputs": [],
   "source": [
    "py_save_object ( df_residual_variance_return, residual_variance_dsn )"
   ]
  },
  {
   "cell_type": "code",
   "execution_count": null,
   "id": "3780f1e3",
   "metadata": {},
   "outputs": [],
   "source": []
  }
 ],
 "metadata": {
  "kernelspec": {
   "display_name": "R",
   "language": "R",
   "name": "ir"
  },
  "language_info": {
   "codemirror_mode": "r",
   "file_extension": ".r",
   "mimetype": "text/x-r-source",
   "name": "R",
   "pygments_lexer": "r",
   "version": "4.2.2"
  }
 },
 "nbformat": 4,
 "nbformat_minor": 5
}
