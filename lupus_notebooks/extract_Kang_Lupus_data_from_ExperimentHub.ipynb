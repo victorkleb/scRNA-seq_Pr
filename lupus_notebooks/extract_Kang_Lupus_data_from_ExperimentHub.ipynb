{
 "cells": [
  {
   "cell_type": "code",
   "execution_count": 1,
   "id": "054c8d39",
   "metadata": {},
   "outputs": [
    {
     "name": "stderr",
     "output_type": "stream",
     "text": [
      "Loading required package: BiocGenerics\n",
      "\n",
      "\n",
      "Attaching package: 'BiocGenerics'\n",
      "\n",
      "\n",
      "The following objects are masked from 'package:stats':\n",
      "\n",
      "    IQR, mad, sd, var, xtabs\n",
      "\n",
      "\n",
      "The following objects are masked from 'package:base':\n",
      "\n",
      "    anyDuplicated, aperm, append, as.data.frame, basename, cbind,\n",
      "    colnames, dirname, do.call, duplicated, eval, evalq, Filter, Find,\n",
      "    get, grep, grepl, intersect, is.unsorted, lapply, Map, mapply,\n",
      "    match, mget, order, paste, pmax, pmax.int, pmin, pmin.int,\n",
      "    Position, rank, rbind, Reduce, rownames, sapply, setdiff, sort,\n",
      "    table, tapply, union, unique, unsplit, which.max, which.min\n",
      "\n",
      "\n",
      "Loading required package: AnnotationHub\n",
      "\n",
      "Loading required package: BiocFileCache\n",
      "\n",
      "Loading required package: dbplyr\n",
      "\n",
      "Loading required package: SingleCellExperiment\n",
      "\n",
      "Loading required package: SummarizedExperiment\n",
      "\n",
      "Loading required package: MatrixGenerics\n",
      "\n",
      "Loading required package: matrixStats\n",
      "\n",
      "\n",
      "Attaching package: 'MatrixGenerics'\n",
      "\n",
      "\n",
      "The following objects are masked from 'package:matrixStats':\n",
      "\n",
      "    colAlls, colAnyNAs, colAnys, colAvgsPerRowSet, colCollapse,\n",
      "    colCounts, colCummaxs, colCummins, colCumprods, colCumsums,\n",
      "    colDiffs, colIQRDiffs, colIQRs, colLogSumExps, colMadDiffs,\n",
      "    colMads, colMaxs, colMeans2, colMedians, colMins, colOrderStats,\n",
      "    colProds, colQuantiles, colRanges, colRanks, colSdDiffs, colSds,\n",
      "    colSums2, colTabulates, colVarDiffs, colVars, colWeightedMads,\n",
      "    colWeightedMeans, colWeightedMedians, colWeightedSds,\n",
      "    colWeightedVars, rowAlls, rowAnyNAs, rowAnys, rowAvgsPerColSet,\n",
      "    rowCollapse, rowCounts, rowCummaxs, rowCummins, rowCumprods,\n",
      "    rowCumsums, rowDiffs, rowIQRDiffs, rowIQRs, rowLogSumExps,\n",
      "    rowMadDiffs, rowMads, rowMaxs, rowMeans2, rowMedians, rowMins,\n",
      "    rowOrderStats, rowProds, rowQuantiles, rowRanges, rowRanks,\n",
      "    rowSdDiffs, rowSds, rowSums2, rowTabulates, rowVarDiffs, rowVars,\n",
      "    rowWeightedMads, rowWeightedMeans, rowWeightedMedians,\n",
      "    rowWeightedSds, rowWeightedVars\n",
      "\n",
      "\n",
      "Loading required package: GenomicRanges\n",
      "\n",
      "Loading required package: stats4\n",
      "\n",
      "Loading required package: S4Vectors\n",
      "\n",
      "\n",
      "Attaching package: 'S4Vectors'\n",
      "\n",
      "\n",
      "The following objects are masked from 'package:Matrix':\n",
      "\n",
      "    expand, unname\n",
      "\n",
      "\n",
      "The following objects are masked from 'package:base':\n",
      "\n",
      "    expand.grid, I, unname\n",
      "\n",
      "\n",
      "Loading required package: IRanges\n",
      "\n",
      "\n",
      "Attaching package: 'IRanges'\n",
      "\n",
      "\n",
      "The following object is masked from 'package:grDevices':\n",
      "\n",
      "    windows\n",
      "\n",
      "\n",
      "Loading required package: GenomeInfoDb\n",
      "\n",
      "Loading required package: Biobase\n",
      "\n",
      "Welcome to Bioconductor\n",
      "\n",
      "    Vignettes contain introductory material; view with\n",
      "    'browseVignettes()'. To cite Bioconductor, see\n",
      "    'citation(\"Biobase\")', and for packages 'citation(\"pkgname\")'.\n",
      "\n",
      "\n",
      "\n",
      "Attaching package: 'Biobase'\n",
      "\n",
      "\n",
      "The following object is masked from 'package:MatrixGenerics':\n",
      "\n",
      "    rowMedians\n",
      "\n",
      "\n",
      "The following objects are masked from 'package:matrixStats':\n",
      "\n",
      "    anyMissing, rowMedians\n",
      "\n",
      "\n",
      "The following object is masked from 'package:ExperimentHub':\n",
      "\n",
      "    cache\n",
      "\n",
      "\n",
      "The following object is masked from 'package:AnnotationHub':\n",
      "\n",
      "    cache\n",
      "\n",
      "\n",
      "Loading required package: scuttle\n",
      "\n",
      "Loading required package: ggplot2\n",
      "\n"
     ]
    }
   ],
   "source": [
    "library(ExperimentHub)\n",
    "library(Matrix)\n",
    "library(scater)\n",
    "library(reticulate)"
   ]
  },
  {
   "cell_type": "code",
   "execution_count": 2,
   "id": "5302fdb4",
   "metadata": {},
   "outputs": [],
   "source": [
    "#### user specified\n",
    "\n",
    "data_folder = \"D:/analyze_Pearson_residuals/\"\n",
    "data_subfolder = \"lupus\"\n",
    "\n",
    "data_path  <- paste0 ( data_folder, data_subfolder )"
   ]
  },
  {
   "cell_type": "code",
   "execution_count": 3,
   "id": "8633f89f",
   "metadata": {},
   "outputs": [],
   "source": [
    "# output data\n",
    "counts_pkl = \"sce_counts_nz_GE_1.pkl\"\n",
    "cells_pkl = \"sce_row_data_nz_GE_1.pkl\"\n",
    "genes_pkl = \"sce_column_data_nz_GE_1.pkl\"\n",
    "\n",
    "\n",
    "# paths: output data\n",
    "counts_dsn     =  paste0 ( data_path, '/', counts_pkl )\n",
    "cell_data_dsn  =  paste0 ( data_path, '/', cells_pkl )\n",
    "gene_data_dsn  =  paste0 ( data_path, '/', genes_pkl )"
   ]
  },
  {
   "cell_type": "code",
   "execution_count": 4,
   "id": "d0e76738",
   "metadata": {},
   "outputs": [
    {
     "name": "stderr",
     "output_type": "stream",
     "text": [
      "snapshotDate(): 2022-10-31\n",
      "\n"
     ]
    },
    {
     "data": {
      "text/plain": [
       "ExperimentHub with 3 records\n",
       "# snapshotDate(): 2022-10-31\n",
       "# $dataprovider: NCI_GDC, GEO\n",
       "# $species: Homo sapiens\n",
       "# $rdataclass: character, SingleCellExperiment, BSseq\n",
       "# additional mcols(): taxonomyid, genome, description,\n",
       "#   coordinate_1_based, maintainer, rdatadateadded, preparerclass, tags,\n",
       "#   rdatapath, sourceurl, sourcetype \n",
       "# retrieve records with, e.g., 'object[[\"EH1661\"]]' \n",
       "\n",
       "           title                                               \n",
       "  EH1661 | Whole Genome Bisulfit Sequencing Data for 47 samples\n",
       "  EH1662 | Whole Genome Bisulfit Sequencing Data for 47 samples\n",
       "  EH2259 | Kang18_8vs8                                         "
      ]
     },
     "metadata": {},
     "output_type": "display_data"
    },
    {
     "name": "stderr",
     "output_type": "stream",
     "text": [
      "snapshotDate(): 2022-10-31\n",
      "\n",
      "see ?muscData and browseVignettes('muscData') for documentation\n",
      "\n",
      "loading from cache\n",
      "\n"
     ]
    },
    {
     "data": {
      "text/plain": [
       "class: SingleCellExperiment \n",
       "dim: 35635 29065 \n",
       "metadata(0):\n",
       "assays(1): counts\n",
       "rownames(35635): MIR1302-10 FAM138A ... MT-ND6 MT-CYB\n",
       "rowData names(2): ENSEMBL SYMBOL\n",
       "colnames(29065): AAACATACAATGCC-1 AAACATACATTTCC-1 ... TTTGCATGGTTTGG-1\n",
       "  TTTGCATGTCTTAC-1\n",
       "colData names(5): ind stim cluster cell multiplets\n",
       "reducedDimNames(1): TSNE\n",
       "mainExpName: NULL\n",
       "altExpNames(0):"
      ]
     },
     "metadata": {},
     "output_type": "display_data"
    },
    {
     "data": {
      "text/html": [
       "<style>\n",
       ".list-inline {list-style: none; margin:0; padding: 0}\n",
       ".list-inline>li {display: inline-block}\n",
       ".list-inline>li:not(:last-child)::after {content: \"\\00b7\"; padding: 0 .5ex}\n",
       "</style>\n",
       "<ol class=list-inline><li>35635</li><li>29065</li></ol>\n"
      ],
      "text/latex": [
       "\\begin{enumerate*}\n",
       "\\item 35635\n",
       "\\item 29065\n",
       "\\end{enumerate*}\n"
      ],
      "text/markdown": [
       "1. 35635\n",
       "2. 29065\n",
       "\n",
       "\n"
      ],
      "text/plain": [
       "[1] 35635 29065"
      ]
     },
     "metadata": {},
     "output_type": "display_data"
    },
    {
     "data": {
      "text/html": [
       "<style>\n",
       ".list-inline {list-style: none; margin:0; padding: 0}\n",
       ".list-inline>li {display: inline-block}\n",
       ".list-inline>li:not(:last-child)::after {content: \"\\00b7\"; padding: 0 .5ex}\n",
       "</style>\n",
       "<ol class=list-inline><li>18890</li><li>29065</li></ol>\n"
      ],
      "text/latex": [
       "\\begin{enumerate*}\n",
       "\\item 18890\n",
       "\\item 29065\n",
       "\\end{enumerate*}\n"
      ],
      "text/markdown": [
       "1. 18890\n",
       "2. 29065\n",
       "\n",
       "\n"
      ],
      "text/plain": [
       "[1] 18890 29065"
      ]
     },
     "metadata": {},
     "output_type": "display_data"
    }
   ],
   "source": [
    "eh <- ExperimentHub()\n",
    "query(eh, \"Kang\")\n",
    "\n",
    "(sce <- eh[[\"EH2259\"]])\n",
    "dim(sce)\n",
    "\n",
    "sce <- sce[rowSums(counts(sce) > 0) > 0, ]\n",
    "dim(sce)"
   ]
  },
  {
   "cell_type": "code",
   "execution_count": 5,
   "id": "3c983bc3",
   "metadata": {},
   "outputs": [
    {
     "data": {
      "text/html": [
       "<style>\n",
       ".list-inline {list-style: none; margin:0; padding: 0}\n",
       ".list-inline>li {display: inline-block}\n",
       ".list-inline>li:not(:last-child)::after {content: \"\\00b7\"; padding: 0 .5ex}\n",
       "</style>\n",
       "<ol class=list-inline><li>18890</li><li>26820</li></ol>\n"
      ],
      "text/latex": [
       "\\begin{enumerate*}\n",
       "\\item 18890\n",
       "\\item 26820\n",
       "\\end{enumerate*}\n"
      ],
      "text/markdown": [
       "1. 18890\n",
       "2. 26820\n",
       "\n",
       "\n"
      ],
      "text/plain": [
       "[1] 18890 26820"
      ]
     },
     "metadata": {},
     "output_type": "display_data"
    },
    {
     "data": {
      "text/html": [
       "<style>\n",
       ".list-inline {list-style: none; margin:0; padding: 0}\n",
       ".list-inline>li {display: inline-block}\n",
       ".list-inline>li:not(:last-child)::after {content: \"\\00b7\"; padding: 0 .5ex}\n",
       "</style>\n",
       "<ol class=list-inline><li>18501</li><li>26820</li></ol>\n"
      ],
      "text/latex": [
       "\\begin{enumerate*}\n",
       "\\item 18501\n",
       "\\item 26820\n",
       "\\end{enumerate*}\n"
      ],
      "text/markdown": [
       "1. 18501\n",
       "2. 26820\n",
       "\n",
       "\n"
      ],
      "text/plain": [
       "[1] 18501 26820"
      ]
     },
     "metadata": {},
     "output_type": "display_data"
    }
   ],
   "source": [
    "qc <- perCellQCMetrics(sce)\n",
    "\n",
    "ol <- isOutlier(metric = qc$detected, nmads = 2, log = TRUE)\n",
    "sce <- sce[, !ol]\n",
    "dim(sce)\n",
    "\n",
    "sce <- sce[rowSums(counts(sce) > 0) >= 1, ]\n",
    "dim(sce)"
   ]
  },
  {
   "cell_type": "code",
   "execution_count": 6,
   "id": "2364f7ad",
   "metadata": {},
   "outputs": [
    {
     "name": "stderr",
     "output_type": "stream",
     "text": [
      "Warning message in asMethod(object):\n",
      "\"sparse->dense coercion: allocating vector of size 3.7 GiB\"\n"
     ]
    },
    {
     "name": "stdout",
     "output_type": "stream",
     "text": [
      "[1] 18501 26820\n",
      "              AAACATACAATGCC-1 AAACATACATTTCC-1 AAACATACCAGAAA-1\n",
      "RP11-34P13.8                 0                0                0\n",
      "AL627309.1                   0                0                0\n",
      "AP006222.2                   0                0                0\n",
      "RP11-206L10.2                0                0                0\n",
      "RP11-206L10.9                0                0                0\n",
      "FAM87B                       0                0                0\n",
      "              AAACATACCAGCTA-1 AAACATACCATGCA-1\n",
      "RP11-34P13.8                 0                0\n",
      "AL627309.1                   0                0\n",
      "AP006222.2                   0                0\n",
      "RP11-206L10.2                0                0\n",
      "RP11-206L10.9                0                0\n",
      "FAM87B                       0                0\n"
     ]
    },
    {
     "name": "stderr",
     "output_type": "stream",
     "text": [
      "as(<matrix>, \"dgTMatrix\") is deprecated since Matrix 1.5-0; do as(as(as(., \"dMatrix\"), \"generalMatrix\"), \"TsparseMatrix\") instead\n",
      "\n"
     ]
    }
   ],
   "source": [
    "count_data =  counts( sce )\n",
    "count_matrix = as.matrix( count_data )\n",
    "print ( dim ( count_matrix ) )\n",
    "print ( head (count_matrix [, c(1:5)] ) )\n",
    "\n",
    "sparse_matrix <- as(count_matrix, \"dgTMatrix\")  "
   ]
  },
  {
   "cell_type": "code",
   "execution_count": 7,
   "id": "5f978e7a",
   "metadata": {},
   "outputs": [
    {
     "name": "stdout",
     "output_type": "stream",
     "text": [
      "[1] 26820     2\n",
      "           barcode         cluster\n",
      "1 AAACATACAATGCC-1     CD4 T cells\n",
      "2 AAACATACATTTCC-1 CD14+ Monocytes\n",
      "3 AAACATACCAGAAA-1 CD14+ Monocytes\n",
      "4 AAACATACCAGCTA-1 CD14+ Monocytes\n",
      "5 AAACATACCATGCA-1     CD4 T cells\n",
      "6 AAACATACCTCGCT-1 CD14+ Monocytes\n"
     ]
    }
   ],
   "source": [
    "col_data = colData( sce )\n",
    "\n",
    "barcode = col_data@rownames\n",
    "cluster = col_data@listData$cell\n",
    "df_cell_data = data.frame ( barcode, cluster )\n",
    "print ( dim ( df_cell_data ) )\n",
    "print ( head ( df_cell_data ) )"
   ]
  },
  {
   "cell_type": "code",
   "execution_count": 8,
   "id": "c1548191",
   "metadata": {},
   "outputs": [
    {
     "name": "stdout",
     "output_type": "stream",
     "text": [
      "[1] 18501     2\n",
      "       ENSEMBL_ID   gene_symbol\n",
      "1 ENSG00000239945  RP11-34P13.8\n",
      "2 ENSG00000237683    AL627309.1\n",
      "3 ENSG00000228463    AP006222.2\n",
      "4 ENSG00000228327 RP11-206L10.2\n",
      "5 ENSG00000237491 RP11-206L10.9\n",
      "6 ENSG00000177757        FAM87B\n"
     ]
    }
   ],
   "source": [
    "row_data = rowData( sce )\n",
    "\n",
    "ENSEMBL_ID = row_data@listData$ENSEMBL\n",
    "gene_symbol = row_data@rownames\n",
    "df_gene_data = data.frame ( ENSEMBL_ID, gene_symbol )\n",
    "print ( dim ( df_gene_data ) )\n",
    "print ( head ( df_gene_data ) )"
   ]
  },
  {
   "cell_type": "code",
   "execution_count": 9,
   "id": "c63cef68",
   "metadata": {},
   "outputs": [],
   "source": [
    "py_save_object ( sparse_matrix, counts_dsn )\n",
    "py_save_object ( df_cell_data, cell_data_dsn )\n",
    "py_save_object  ( df_gene_data, gene_data_dsn )"
   ]
  },
  {
   "cell_type": "code",
   "execution_count": null,
   "id": "2673fe95",
   "metadata": {},
   "outputs": [],
   "source": []
  }
 ],
 "metadata": {
  "kernelspec": {
   "display_name": "R",
   "language": "R",
   "name": "ir"
  },
  "language_info": {
   "codemirror_mode": "r",
   "file_extension": ".r",
   "mimetype": "text/x-r-source",
   "name": "R",
   "pygments_lexer": "r",
   "version": "4.2.2"
  }
 },
 "nbformat": 4,
 "nbformat_minor": 5
}
