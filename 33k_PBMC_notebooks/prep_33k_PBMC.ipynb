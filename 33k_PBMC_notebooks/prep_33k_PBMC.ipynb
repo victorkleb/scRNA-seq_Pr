{
 "cells": [
  {
   "cell_type": "code",
   "execution_count": 1,
   "id": "958be615",
   "metadata": {},
   "outputs": [],
   "source": [
    "import pandas as pd\n",
    "import numpy  as np \n",
    " \n",
    "from pathlib import Path\n",
    "\n",
    "from scipy.io import mmread\n",
    "\n",
    "\n",
    "pd.set_option('display.max_columns', 5)"
   ]
  },
  {
   "cell_type": "code",
   "execution_count": 2,
   "id": "bfa13866",
   "metadata": {},
   "outputs": [],
   "source": [
    "#### user specified\n",
    "data_folder = r\"D:/analyze_Pearson_residuals/\"\n",
    "\n",
    "data_subfolder = \"33k_PBMC\"\n",
    "\n",
    "data_path = Path ( data_folder + data_subfolder )\n",
    "\n",
    "clusters_folder = data_folder + data_subfolder + \"/kmeans/10_clusters\" \n",
    "clusters_path = Path ( clusters_folder )"
   ]
  },
  {
   "cell_type": "code",
   "execution_count": 3,
   "id": "e3b2f9e5",
   "metadata": {},
   "outputs": [],
   "source": [
    "counts_pkl = \"counts_sparse.pkl\" # sparse Pandas data frame: cells in columns; genes in rows\n",
    "clusters_pkl = \"clusters.pkl\"\n",
    "\n",
    "\n",
    "matrix_mtx = \"matrix.mtx\"\n",
    "genes_tsv  = \"genes.tsv\"\n",
    "cells_tsv = \"barcodes.tsv\"\n",
    "\n",
    "clusters_csv = \"clusters.csv\"\n",
    "\n",
    "\n",
    "# pkl outputs\n",
    "counts_dsn = data_path / counts_pkl\n",
    "clusters_out_dsn = data_path / clusters_pkl\n",
    "\n",
    "\n",
    "# inputs\n",
    "matrix_dsn  = data_path / matrix_mtx\n",
    "genes_dsn = data_path / genes_tsv\n",
    "cells_dsn = data_path / cells_tsv\n",
    "clusters_in_dsn = clusters_path / clusters_csv"
   ]
  },
  {
   "cell_type": "code",
   "execution_count": 4,
   "id": "0344d5a0",
   "metadata": {},
   "outputs": [],
   "source": [
    "pctl_list = [.01,.05, .10, .25, .5, .75, .90, .95, .96, .97, .98, .99, .995, .999 ]"
   ]
  },
  {
   "cell_type": "code",
   "execution_count": 5,
   "id": "69cd08bd",
   "metadata": {},
   "outputs": [
    {
     "name": "stdout",
     "output_type": "stream",
     "text": [
      " df_clusters \n",
      "                   Cluster\n",
      "Barcode                  \n",
      "AAACATTGACGACT-1        1\n",
      "AAACATTGACGGGA-1        8\n",
      "AAACATTGCCGCTT-1        2\n",
      "AAACATTGCTCATT-1        3\n",
      "AAACCGTGCCCTCA-1        5\n",
      "...                   ...\n",
      "TTTGCATGCACTAG-6        3\n",
      "TTTGCATGCCGAAT-6        1\n",
      "TTTGCATGGAGGTG-6        7\n",
      "TTTGCATGGATAAG-6        3\n",
      "TTTGCATGGGCATT-6        4\n",
      "\n",
      "[33148 rows x 1 columns]\n",
      "\n",
      "\n",
      " df_clusters.value_counts \n",
      "\n",
      "1     7406\n",
      "4     7047\n",
      "2     6307\n",
      "5     4164\n",
      "3     3660\n",
      "7     2288\n",
      "8     1959\n",
      "6      135\n",
      "10     107\n",
      "9       75\n",
      "Name: Cluster, dtype: int64\n"
     ]
    }
   ],
   "source": [
    "df_clusters = pd.read_csv ( clusters_in_dsn  )\n",
    "df_clusters.set_index ( ['Barcode'], inplace=True )\n",
    "print ( ' df_clusters \\n', df_clusters )\n",
    "print ( '\\n\\n df_clusters.value_counts \\n' )\n",
    "print ( df_clusters['Cluster'].value_counts() )"
   ]
  },
  {
   "cell_type": "code",
   "execution_count": 6,
   "id": "31a6e877",
   "metadata": {},
   "outputs": [
    {
     "name": "stdout",
     "output_type": "stream",
     "text": [
      " df_genes \n",
      "\n",
      "             ENSEMBL_ID   gene_symbol\n",
      "0      ENSG00000243485    MIR1302-10\n",
      "1      ENSG00000237613       FAM138A\n",
      "2      ENSG00000186092         OR4F5\n",
      "3      ENSG00000238009  RP11-34P13.7\n",
      "4      ENSG00000239945  RP11-34P13.8\n",
      "...                ...           ...\n",
      "32733  ENSG00000215635    AC145205.1\n",
      "32734  ENSG00000268590         BAGE5\n",
      "32735  ENSG00000251180    CU459201.1\n",
      "32736  ENSG00000215616    AC002321.2\n",
      "32737  ENSG00000215611    AC002321.1\n",
      "\n",
      "[32738 rows x 2 columns]\n"
     ]
    }
   ],
   "source": [
    "df_genes = pd.read_csv ( genes_dsn, sep='\\t', names = ['ENSEMBL_ID','gene_symbol'], usecols =[0,1] ) \n",
    "print (  ' df_genes \\n\\n', df_genes)"
   ]
  },
  {
   "cell_type": "code",
   "execution_count": 7,
   "id": "cf04a3f8",
   "metadata": {},
   "outputs": [
    {
     "name": "stdout",
     "output_type": "stream",
     "text": [
      " df_cells \n",
      "\n",
      "                barcodes\n",
      "0      AAACATTGACGACT-1\n",
      "1      AAACATTGACGGGA-1\n",
      "2      AAACATTGCCGCTT-1\n",
      "3      AAACATTGCTCATT-1\n",
      "4      AAACCGTGCCCTCA-1\n",
      "...                 ...\n",
      "33143  TTTGCATGCACTAG-6\n",
      "33144  TTTGCATGCCGAAT-6\n",
      "33145  TTTGCATGGAGGTG-6\n",
      "33146  TTTGCATGGATAAG-6\n",
      "33147  TTTGCATGGGCATT-6\n",
      "\n",
      "[33148 rows x 1 columns]\n",
      "\n",
      "\n",
      " len(barcode_list):  33148\n"
     ]
    }
   ],
   "source": [
    "# read barcodes - to index sparse Pandas data frame containing UMI counts\n",
    "df_cells = pd.read_csv ( cells_dsn, sep='\\t', names = ['barcodes'] ) \n",
    "print (  ' df_cells \\n\\n', df_cells )\n",
    "\n",
    "barcode_list = df_cells['barcodes'].values.tolist()\n",
    "print (  '\\n\\n len(barcode_list): ', len(barcode_list))"
   ]
  },
  {
   "cell_type": "code",
   "execution_count": 8,
   "id": "c075f414",
   "metadata": {},
   "outputs": [
    {
     "name": "stdout",
     "output_type": "stream",
     "text": [
      " nonzero_row.sum: \n",
      "\n",
      " 20678\n"
     ]
    }
   ],
   "source": [
    "X = mmread( matrix_dsn ).astype( int )\n",
    "X = X.tocsr()\n",
    "\n",
    "X_GT_0 = ( X > 0 )\n",
    "row_nonzero_count = X_GT_0.sum ( axis = 1 ) \n",
    "\n",
    "\n",
    "####  exclude genes with no nonzero counts\n",
    "nonzero_row = ( row_nonzero_count >= 1 ) \n",
    "print (  ' nonzero_row.sum: \\n\\n', nonzero_row.sum())"
   ]
  },
  {
   "cell_type": "code",
   "execution_count": 9,
   "id": "8484b940",
   "metadata": {},
   "outputs": [
    {
     "name": "stdout",
     "output_type": "stream",
     "text": [
      " index_nonzero_rows: [    4     5     8 ... 32727 32731 32732]\n",
      "\n",
      " df_genes_sel \n",
      "\n",
      "             ENSEMBL_ID    gene_symbol\n",
      "4      ENSG00000239945   RP11-34P13.8\n",
      "5      ENSG00000237683     AL627309.1\n",
      "8      ENSG00000228463     AP006222.2\n",
      "19     ENSG00000235373  RP11-206L10.3\n",
      "22     ENSG00000228327  RP11-206L10.2\n",
      "...                ...            ...\n",
      "32722  ENSG00000212884     AC011841.1\n",
      "32726  ENSG00000215615     AL354822.1\n",
      "32727  ENSG00000215764        KIR2DL2\n",
      "32731  ENSG00000215700          PNRC2\n",
      "32732  ENSG00000215699         SRSF10\n",
      "\n",
      "[20678 rows x 2 columns]\n"
     ]
    }
   ],
   "source": [
    "index_nonzero_rows = np.where( nonzero_row )[0]\n",
    "print (  ' index_nonzero_rows:', index_nonzero_rows )\n",
    "\n",
    "df_genes_sel = df_genes.iloc [ index_nonzero_rows ]\n",
    "print (  '\\n df_genes_sel \\n\\n', df_genes_sel)"
   ]
  },
  {
   "cell_type": "code",
   "execution_count": 10,
   "id": "726b1bf2",
   "metadata": {},
   "outputs": [
    {
     "name": "stdout",
     "output_type": "stream",
     "text": [
      " df_counts_sel:                  AAACATTGACGACT-1  AAACATTGACGGGA-1  ...  TTTGCATGGATAAG-6  \\\n",
      "ENSEMBL_ID                                           ...                     \n",
      "ENSG00000239945                 0                 0  ...                 0   \n",
      "ENSG00000237683                 0                 0  ...                 0   \n",
      "ENSG00000228463                 0                 0  ...                 0   \n",
      "ENSG00000235373                 0                 0  ...                 0   \n",
      "ENSG00000228327                 0                 0  ...                 0   \n",
      "...                           ...               ...  ...               ...   \n",
      "ENSG00000212884                 0                 0  ...                 0   \n",
      "ENSG00000215615                 0                 0  ...                 0   \n",
      "ENSG00000215764                 0                 0  ...                 0   \n",
      "ENSG00000215700                 1                 0  ...                 1   \n",
      "ENSG00000215699                 0                 0  ...                 0   \n",
      "\n",
      "                 TTTGCATGGGCATT-6  \n",
      "ENSEMBL_ID                         \n",
      "ENSG00000239945                 0  \n",
      "ENSG00000237683                 0  \n",
      "ENSG00000228463                 0  \n",
      "ENSG00000235373                 0  \n",
      "ENSG00000228327                 0  \n",
      "...                           ...  \n",
      "ENSG00000212884                 0  \n",
      "ENSG00000215615                 0  \n",
      "ENSG00000215764                 0  \n",
      "ENSG00000215700                 0  \n",
      "ENSG00000215699                 0  \n",
      "\n",
      "[20678 rows x 33148 columns]\n",
      "\n",
      " type( df_counts_sel ) <class 'pandas.core.frame.DataFrame'>\n",
      "\n",
      " df_counts_sel.sparse.density:   0.0370311047618005\n"
     ]
    }
   ],
   "source": [
    "X_sel = X[ index_nonzero_rows, : ]\n",
    "\n",
    "df_counts_sel =  pd.DataFrame.sparse.from_spmatrix(X_sel, index=df_genes_sel['ENSEMBL_ID'], columns=barcode_list )\n",
    "print (  ' df_counts_sel:', df_counts_sel)\n",
    "print (  '\\n type( df_counts_sel )' , type ( df_counts_sel ))\n",
    "print (  '\\n df_counts_sel.sparse.density:  ', df_counts_sel.sparse.density)"
   ]
  },
  {
   "cell_type": "code",
   "execution_count": 11,
   "id": "2ae09ab2",
   "metadata": {},
   "outputs": [
    {
     "name": "stdout",
     "output_type": "stream",
     "text": [
      " ser_cell_totals.describe:\n",
      "count    33148.000000\n",
      "mean      2057.881682\n",
      "std        968.832213\n",
      "min        480.000000\n",
      "1%         571.000000\n",
      "5%         818.000000\n",
      "10%       1062.000000\n",
      "25%       1463.000000\n",
      "50%       1891.000000\n",
      "75%       2438.000000\n",
      "90%       3216.000000\n",
      "95%       3838.000000\n",
      "96%       4021.000000\n",
      "97%       4258.000000\n",
      "98%       4640.060000\n",
      "99%       5311.770000\n",
      "99.5%     6061.710000\n",
      "99.9%     8466.679000\n",
      "max      15680.000000\n",
      "dtype: float64\n",
      "\n",
      " ser_cell_totals_GT_0.describe:\n",
      "count    33148.000000\n",
      "mean      2057.881682\n",
      "std        968.832213\n",
      "min        480.000000\n",
      "1%         571.000000\n",
      "5%         818.000000\n",
      "10%       1062.000000\n",
      "25%       1463.000000\n",
      "50%       1891.000000\n",
      "75%       2438.000000\n",
      "90%       3216.000000\n",
      "95%       3838.000000\n",
      "96%       4021.000000\n",
      "97%       4258.000000\n",
      "98%       4640.060000\n",
      "99%       5311.770000\n",
      "99.5%     6061.710000\n",
      "99.9%     8466.679000\n",
      "max      15680.000000\n",
      "dtype: float64\n"
     ]
    }
   ],
   "source": [
    "# verify that all cells have nonzero total count\n",
    "ser_cell_totals = df_counts_sel.sum ( axis=0 ) \n",
    "print (  ' ser_cell_totals.describe:')\n",
    "print ( ser_cell_totals.describe( percentiles = pctl_list ) )\n",
    "\n",
    "ser_cell_totals_GT_0 = ser_cell_totals.loc [ ser_cell_totals > 0 ]\n",
    "print (  '\\n ser_cell_totals_GT_0.describe:' )\n",
    "print ( ser_cell_totals_GT_0.describe( percentiles = pctl_list ) )"
   ]
  },
  {
   "cell_type": "code",
   "execution_count": 12,
   "id": "50f2164c",
   "metadata": {},
   "outputs": [
    {
     "name": "stdout",
     "output_type": "stream",
     "text": [
      " df_counts_sparse:\n",
      "                 AAACATTGACGACT-1  AAACATTGACGGGA-1  ...  TTTGCATGGATAAG-6  \\\n",
      "ENSEMBL_ID                                           ...                     \n",
      "ENSG00000239945                 0                 0  ...                 0   \n",
      "ENSG00000237683                 0                 0  ...                 0   \n",
      "ENSG00000228463                 0                 0  ...                 0   \n",
      "ENSG00000235373                 0                 0  ...                 0   \n",
      "ENSG00000228327                 0                 0  ...                 0   \n",
      "...                           ...               ...  ...               ...   \n",
      "ENSG00000212884                 0                 0  ...                 0   \n",
      "ENSG00000215615                 0                 0  ...                 0   \n",
      "ENSG00000215764                 0                 0  ...                 0   \n",
      "ENSG00000215700                 1                 0  ...                 1   \n",
      "ENSG00000215699                 0                 0  ...                 0   \n",
      "\n",
      "                 TTTGCATGGGCATT-6  \n",
      "ENSEMBL_ID                         \n",
      "ENSG00000239945                 0  \n",
      "ENSG00000237683                 0  \n",
      "ENSG00000228463                 0  \n",
      "ENSG00000235373                 0  \n",
      "ENSG00000228327                 0  \n",
      "...                           ...  \n",
      "ENSG00000212884                 0  \n",
      "ENSG00000215615                 0  \n",
      "ENSG00000215764                 0  \n",
      "ENSG00000215700                 0  \n",
      "ENSG00000215699                 0  \n",
      "\n",
      "[20678 rows x 33148 columns]\n",
      "\n",
      " type( df_counts_sparse )  <class 'pandas.core.frame.DataFrame'>\n",
      "\n",
      " df_counts_sparse.sparse.density:  0.0370311047618005\n",
      "\n",
      " ser_cell_totals:\n",
      "AAACATTGACGACT-1    1935\n",
      "AAACATTGACGGGA-1    1342\n",
      "AAACATTGCCGCTT-1     720\n",
      "AAACATTGCTCATT-1    1604\n",
      "AAACCGTGCCCTCA-1    1313\n",
      "                    ... \n",
      "TTTGCATGCACTAG-6    1461\n",
      "TTTGCATGCCGAAT-6     868\n",
      "TTTGCATGGAGGTG-6    3104\n",
      "TTTGCATGGATAAG-6    1665\n",
      "TTTGCATGGGCATT-6    1503\n",
      "Length: 33148, dtype: int32\n",
      "\n",
      " ser_cell_totals.describe:\n",
      "count    33148.000000\n",
      "mean      2057.881682\n",
      "std        968.832213\n",
      "min        480.000000\n",
      "1%         571.000000\n",
      "5%         818.000000\n",
      "10%       1062.000000\n",
      "25%       1463.000000\n",
      "50%       1891.000000\n",
      "75%       2438.000000\n",
      "90%       3216.000000\n",
      "95%       3838.000000\n",
      "96%       4021.000000\n",
      "97%       4258.000000\n",
      "98%       4640.060000\n",
      "99%       5311.770000\n",
      "99.5%     6061.710000\n",
      "99.9%     8466.679000\n",
      "max      15680.000000\n",
      "dtype: float64\n"
     ]
    }
   ],
   "source": [
    "df_counts_sparse = df_counts_sel[ ser_cell_totals_GT_0.index ]\n",
    "print (  ' df_counts_sparse:' )\n",
    "print (  df_counts_sparse )\n",
    "print (  '\\n type( df_counts_sparse ) ', type ( df_counts_sparse ))\n",
    "print (  '\\n df_counts_sparse.sparse.density: ', df_counts_sparse.sparse.density)\n",
    "\n",
    "ser_cell_totals = df_counts_sparse.sum ( axis=0 )\n",
    "print (  '\\n ser_cell_totals:' )\n",
    "print (  ser_cell_totals )\n",
    "print (  '\\n ser_cell_totals.describe:')\n",
    "print ( ser_cell_totals.describe( percentiles = pctl_list ))"
   ]
  },
  {
   "cell_type": "code",
   "execution_count": 13,
   "id": "0f3f61df",
   "metadata": {},
   "outputs": [],
   "source": [
    "df_counts_sparse.to_pickle ( counts_dsn )\n",
    "df_clusters.to_pickle ( clusters_out_dsn )"
   ]
  },
  {
   "cell_type": "code",
   "execution_count": null,
   "id": "a01fe938",
   "metadata": {},
   "outputs": [],
   "source": []
  }
 ],
 "metadata": {
  "kernelspec": {
   "display_name": "Python 3 (ipykernel)",
   "language": "python",
   "name": "python3"
  },
  "language_info": {
   "codemirror_mode": {
    "name": "ipython",
    "version": 3
   },
   "file_extension": ".py",
   "mimetype": "text/x-python",
   "name": "python",
   "nbconvert_exporter": "python",
   "pygments_lexer": "ipython3",
   "version": "3.9.13"
  }
 },
 "nbformat": 4,
 "nbformat_minor": 5
}
