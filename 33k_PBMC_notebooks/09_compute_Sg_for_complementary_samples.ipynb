{
 "cells": [
  {
   "cell_type": "code",
   "execution_count": 1,
   "id": "9f3f0298",
   "metadata": {},
   "outputs": [
    {
     "name": "stderr",
     "output_type": "stream",
     "text": [
      "Attaching SeuratObject\n",
      "\n"
     ]
    }
   ],
   "source": [
    "library(reticulate) \n",
    "library(Seurat)"
   ]
  },
  {
   "cell_type": "code",
   "execution_count": 2,
   "id": "8894d462",
   "metadata": {},
   "outputs": [],
   "source": [
    "#### user specified\n",
    "\n",
    "data_folder = \"D:/analyze_Pearson_residuals/\"\n",
    "data_subfolder = \"33k_PBMC\"\n",
    "\n",
    "data_path  <- paste0 ( data_folder, data_subfolder )"
   ]
  },
  {
   "cell_type": "code",
   "execution_count": 3,
   "id": "cb2ba2a4",
   "metadata": {},
   "outputs": [],
   "source": [
    "# output data\n",
    "residual_variance_pkl = \"Sg_complementary_samples.pkl\"\n",
    "\n",
    "# input data\n",
    "gene_array_pkl  = \"gene_array.pkl\"\n",
    "cell_array_pkl  = \"cell_array.pkl\"\n",
    "counts_pkl = \"counts_scipy_csc.pkl\"\n",
    "\n",
    "selected_genes_array_pkl  = \"gene_array_complementary_samples.pkl\"\n",
    "df_selected_cells_pkl  = \"df_cells_complementary_samples.pkl\" \n",
    "\n",
    "\n",
    "\n",
    "# path: output data\n",
    "residual_variance_dsn    <- paste0 ( data_path, '/', residual_variance_pkl )\n",
    "\n",
    "\n",
    "# paths: input data\n",
    "gene_array_dsn    <- paste0 ( data_path, '/', gene_array_pkl )\n",
    "cell_array_dsn   <- paste0 ( data_path, '/', cell_array_pkl )\n",
    "counts_dsn    <- paste0 ( data_path, '/', counts_pkl )\n",
    "\n",
    "selected_genes_array_dsn <- paste0 ( data_path, '/', selected_genes_array_pkl )\n",
    "df_selected_cells_dsn  <- paste0 ( data_path, '/', df_selected_cells_pkl )"
   ]
  },
  {
   "cell_type": "code",
   "execution_count": 4,
   "id": "2b26145d",
   "metadata": {},
   "outputs": [
    {
     "name": "stdout",
     "output_type": "stream",
     "text": [
      "[1] 12324\n",
      "[1] \"ENSG00000254709\" \"ENSG00000163736\" \"ENSG00000087086\" \"ENSG00000163220\"\n",
      "[5] \"ENSG00000090382\" \"ENSG00000132465\"\n"
     ]
    }
   ],
   "source": [
    "gene_array = py_load_object ( gene_array_dsn )\n",
    "print ( dim ( gene_array ) )\n",
    "print ( head ( gene_array ) )"
   ]
  },
  {
   "cell_type": "code",
   "execution_count": 5,
   "id": "72766343",
   "metadata": {},
   "outputs": [
    {
     "name": "stdout",
     "output_type": "stream",
     "text": [
      "[1] 33148\n",
      "[1] \"AAACATTGACGACT-1\" \"AAACATTGACGGGA-1\" \"AAACATTGCCGCTT-1\" \"AAACATTGCTCATT-1\"\n",
      "[5] \"AAACCGTGCCCTCA-1\" \"AAACCGTGCCTTTA-1\"\n"
     ]
    }
   ],
   "source": [
    "cell_array = py_load_object ( cell_array_dsn )\n",
    "print ( dim ( cell_array ) )\n",
    "print ( head ( cell_array ) )"
   ]
  },
  {
   "cell_type": "code",
   "execution_count": 6,
   "id": "bc502f2a",
   "metadata": {},
   "outputs": [
    {
     "name": "stdout",
     "output_type": "stream",
     "text": [
      "[1] 12324 33148\n",
      "6 x 5 sparse Matrix of class \"dgCMatrix\"\n",
      "                AAACATTGACGACT-1 AAACATTGACGGGA-1 AAACATTGCCGCTT-1\n",
      "ENSG00000254709                .                .                .\n",
      "ENSG00000163736                .                .                .\n",
      "ENSG00000087086                3                6               39\n",
      "ENSG00000163220                .                .                .\n",
      "ENSG00000090382                1                .                4\n",
      "ENSG00000132465                .                .                .\n",
      "                AAACATTGCTCATT-1 AAACCGTGCCCTCA-1\n",
      "ENSG00000254709                .                .\n",
      "ENSG00000163736                .                .\n",
      "ENSG00000087086                1                3\n",
      "ENSG00000163220                .                .\n",
      "ENSG00000090382                .                .\n",
      "ENSG00000132465                .                .\n"
     ]
    }
   ],
   "source": [
    "df_counts = py_load_object( counts_dsn ) \n",
    "\n",
    "rownames(df_counts) <- gene_array\n",
    "colnames(df_counts) <- cell_array\n",
    "rm ( gene_array, cell_array )\n",
    "\n",
    "print ( dim ( df_counts ) )\n",
    "print ( head (df_counts [, c(1:5)] ) )"
   ]
  },
  {
   "cell_type": "code",
   "execution_count": 7,
   "id": "6ae85c5c",
   "metadata": {},
   "outputs": [
    {
     "name": "stdout",
     "output_type": "stream",
     "text": [
      "[1] 33148     2\n",
      "                     0     1\n",
      "AAACATTGACGACT-1 FALSE  TRUE\n",
      "AAACATTGACGGGA-1  TRUE FALSE\n",
      "AAACATTGCCGCTT-1  TRUE FALSE\n",
      "AAACATTGCTCATT-1  TRUE FALSE\n",
      "AAACCGTGCCCTCA-1 FALSE  TRUE\n",
      "AAACCGTGCCTTTA-1  TRUE FALSE\n"
     ]
    }
   ],
   "source": [
    "selected_genes_array = py_load_object ( selected_genes_array_dsn )\n",
    "\n",
    "df_selected_cells = py_load_object ( df_selected_cells_dsn )\n",
    "print ( dim ( df_selected_cells ) )\n",
    "print ( head ( df_selected_cells ) )\n",
    "\n",
    "rownames_selected_cells = rownames ( df_selected_cells )"
   ]
  },
  {
   "cell_type": "code",
   "execution_count": 8,
   "id": "53c5efe3",
   "metadata": {},
   "outputs": [
    {
     "name": "stdout",
     "output_type": "stream",
     "text": [
      "[1] 12324 33148\n",
      "6 x 5 sparse Matrix of class \"dgCMatrix\"\n",
      "                AAACATTGACGACT-1 AAACATTGACGGGA-1 AAACATTGCCGCTT-1\n",
      "ENSG00000254709                .                .                .\n",
      "ENSG00000163736                .                .                .\n",
      "ENSG00000087086                3                6               39\n",
      "ENSG00000163220                .                .                .\n",
      "ENSG00000090382                1                .                4\n",
      "ENSG00000132465                .                .                .\n",
      "                AAACATTGCTCATT-1 AAACCGTGCCCTCA-1\n",
      "ENSG00000254709                .                .\n",
      "ENSG00000163736                .                .\n",
      "ENSG00000087086                1                3\n",
      "ENSG00000163220                .                .\n",
      "ENSG00000090382                .                .\n",
      "ENSG00000132465                .                .\n"
     ]
    }
   ],
   "source": [
    "df_counts_selected_cells = df_counts[,rownames_selected_cells]\n",
    "rm ( df_counts )\n",
    "print ( dim ( df_counts_selected_cells ) )\n",
    "print ( head ( df_counts_selected_cells  [, c(1:5)] ) )"
   ]
  },
  {
   "cell_type": "code",
   "execution_count": 9,
   "id": "01b6f038",
   "metadata": {},
   "outputs": [
    {
     "name": "stdout",
     "output_type": "stream",
     "text": [
      "[1] 10908 33148\n",
      "6 x 5 sparse Matrix of class \"dgCMatrix\"\n",
      "                AAACATTGACGACT-1 AAACATTGACGGGA-1 AAACATTGCCGCTT-1\n",
      "ENSG00000254709                .                .                .\n",
      "ENSG00000163736                .                .                .\n",
      "ENSG00000087086                3                6               39\n",
      "ENSG00000163220                .                .                .\n",
      "ENSG00000090382                1                .                4\n",
      "ENSG00000132465                .                .                .\n",
      "                AAACATTGCTCATT-1 AAACCGTGCCCTCA-1\n",
      "ENSG00000254709                .                .\n",
      "ENSG00000163736                .                .\n",
      "ENSG00000087086                1                3\n",
      "ENSG00000163220                .                .\n",
      "ENSG00000090382                .                .\n",
      "ENSG00000132465                .                .\n"
     ]
    }
   ],
   "source": [
    "df_counts_selected = df_counts_selected_cells [ rownames ( df_counts_selected_cells ) %in% selected_genes_array, ]  \n",
    "rm ( df_counts_selected_cells )\n",
    "print ( dim ( df_counts_selected ) )\n",
    "print ( head ( df_counts_selected  [, c(1:5)] ) )"
   ]
  },
  {
   "cell_type": "code",
   "execution_count": 10,
   "id": "5422ca29",
   "metadata": {},
   "outputs": [
    {
     "name": "stdout",
     "output_type": "stream",
     "text": [
      "[1] \"sample: 1\"\n",
      "[1] 10908 16593\n"
     ]
    },
    {
     "name": "stderr",
     "output_type": "stream",
     "text": [
      "vst.flavor='v2' set, setting model to use fixed slope and exclude poisson genes.\n",
      "\n",
      "Calculating cell attributes from input UMI matrix: log_umi\n",
      "\n",
      "Total Step 1 genes: 10908\n",
      "\n",
      "Total overdispersed genes: 10308\n",
      "\n",
      "Excluding 600 genes from Step 1 because they are not overdispersed.\n",
      "\n",
      "Variance stabilizing transformation of count matrix of size 10908 by 16593\n",
      "\n",
      "Model formula is y ~ log_umi\n",
      "\n",
      "Get Negative Binomial regression parameters per gene\n",
      "\n",
      "Using 2000 genes, 5000 cells\n",
      "\n"
     ]
    },
    {
     "name": "stdout",
     "output_type": "stream",
     "text": [
      "  |======================================================================| 100%\n"
     ]
    },
    {
     "name": "stderr",
     "output_type": "stream",
     "text": [
      "Setting estimate of  266 genes to inf as theta_mm/theta_mle < 1e-3\n",
      "\n",
      "# of step1 poisson genes (variance < mean): 0\n",
      "\n",
      "# of low mean genes (mean < 0.001): 0\n",
      "\n",
      "Total # of Step1 poisson genes (theta=Inf; variance < mean): 266\n",
      "\n",
      "Total # of poisson genes (theta=Inf; variance < mean): 600\n",
      "\n",
      "Calling offset model for all 600 poisson genes\n",
      "\n",
      "Found 296 outliers - those will be ignored in fitting/regularization step\n",
      "\n",
      "\n",
      "Ignoring theta inf genes\n",
      "\n",
      "Replacing fit params for 600 poisson genes by theta=Inf\n",
      "\n",
      "Setting min_variance based on median UMI:  0.04\n",
      "\n",
      "Second step: Get residuals using fitted parameters for 10908 genes\n",
      "\n"
     ]
    },
    {
     "name": "stdout",
     "output_type": "stream",
     "text": [
      "  |======================================================================| 100%\n"
     ]
    },
    {
     "name": "stderr",
     "output_type": "stream",
     "text": [
      "Computing corrected count matrix for 10908 genes\n",
      "\n"
     ]
    },
    {
     "name": "stdout",
     "output_type": "stream",
     "text": [
      "  |======================================================================| 100%\n"
     ]
    },
    {
     "name": "stderr",
     "output_type": "stream",
     "text": [
      "Calculating gene attributes\n",
      "\n",
      "Wall clock passed: Time difference of 53.13371 secs\n",
      "\n",
      "Determine variable features\n",
      "\n",
      "Place corrected count matrix in counts slot\n",
      "\n",
      "Centering data matrix\n",
      "\n",
      "Set default assay to SCT\n",
      "\n"
     ]
    },
    {
     "name": "stdout",
     "output_type": "stream",
     "text": [
      "[1] \"--------------------------------------------------------\"\n",
      "[1] \"sample: 2\"\n",
      "[1] 10908 16555\n"
     ]
    },
    {
     "name": "stderr",
     "output_type": "stream",
     "text": [
      "vst.flavor='v2' set, setting model to use fixed slope and exclude poisson genes.\n",
      "\n",
      "Calculating cell attributes from input UMI matrix: log_umi\n",
      "\n",
      "Total Step 1 genes: 10908\n",
      "\n",
      "Total overdispersed genes: 10300\n",
      "\n",
      "Excluding 608 genes from Step 1 because they are not overdispersed.\n",
      "\n",
      "Variance stabilizing transformation of count matrix of size 10908 by 16555\n",
      "\n",
      "Model formula is y ~ log_umi\n",
      "\n",
      "Get Negative Binomial regression parameters per gene\n",
      "\n",
      "Using 2000 genes, 5000 cells\n",
      "\n"
     ]
    },
    {
     "name": "stdout",
     "output_type": "stream",
     "text": [
      "  |======================================================================| 100%\n"
     ]
    },
    {
     "name": "stderr",
     "output_type": "stream",
     "text": [
      "Setting estimate of  306 genes to inf as theta_mm/theta_mle < 1e-3\n",
      "\n",
      "# of step1 poisson genes (variance < mean): 0\n",
      "\n",
      "# of low mean genes (mean < 0.001): 0\n",
      "\n",
      "Total # of Step1 poisson genes (theta=Inf; variance < mean): 306\n",
      "\n",
      "Total # of poisson genes (theta=Inf; variance < mean): 608\n",
      "\n",
      "Calling offset model for all 608 poisson genes\n",
      "\n",
      "Found 384 outliers - those will be ignored in fitting/regularization step\n",
      "\n",
      "\n",
      "Ignoring theta inf genes\n",
      "\n",
      "Replacing fit params for 608 poisson genes by theta=Inf\n",
      "\n",
      "Setting min_variance based on median UMI:  0.04\n",
      "\n",
      "Second step: Get residuals using fitted parameters for 10908 genes\n",
      "\n"
     ]
    },
    {
     "name": "stdout",
     "output_type": "stream",
     "text": [
      "  |======================================================================| 100%\n"
     ]
    },
    {
     "name": "stderr",
     "output_type": "stream",
     "text": [
      "Computing corrected count matrix for 10908 genes\n",
      "\n"
     ]
    },
    {
     "name": "stdout",
     "output_type": "stream",
     "text": [
      "  |======================================================================| 100%\n"
     ]
    },
    {
     "name": "stderr",
     "output_type": "stream",
     "text": [
      "Calculating gene attributes\n",
      "\n",
      "Wall clock passed: Time difference of 52.56205 secs\n",
      "\n",
      "Determine variable features\n",
      "\n",
      "Place corrected count matrix in counts slot\n",
      "\n",
      "Centering data matrix\n",
      "\n",
      "Set default assay to SCT\n",
      "\n"
     ]
    },
    {
     "name": "stdout",
     "output_type": "stream",
     "text": [
      "[1] \"--------------------------------------------------------\"\n"
     ]
    }
   ],
   "source": [
    "\n",
    "# output data frames\n",
    "list_df_residual_variance = list()\n",
    "\n",
    "for ( sample in (1:2) )\n",
    "{\n",
    "  print ( paste ( 'sample:', sample ) )\n",
    "  df_sample = df_selected_cells[ sample ]\n",
    "  \n",
    "  colnames(df_sample)  <-'select'\n",
    "  vect_select = df_sample$select\n",
    "  \n",
    "  df_sample_new = data.frame ( rownames_selected_cells) \n",
    "  cells_select = df_sample_new[ vect_select, ]\n",
    "\n",
    "  df_counts_select_sample = df_counts_selected[, cells_select ]  \n",
    "  print ( dim ( df_counts_select_sample ) )\n",
    "\n",
    "  seurat_object <-  CreateSeuratObject(counts = df_counts_select_sample , project = data_subfolder )  \n",
    "  seurat_object <- SCTransform(seurat_object, vst.flavor=\"v2\", method = \"glmGamPoi\", variable.features.n=10 )\n",
    "\n",
    "  gene_list = seurat_object@assays$SCT@data@Dimnames[1]\n",
    "  gene_vector = unlist ( gene_list )\n",
    "\n",
    "  residual_variance = seurat_object@assays$SCT@SCTModel.list$model1@feature.attributes$residual_variance\n",
    "\n",
    "  df_residual_variance <- data.frame( gene_vector )\n",
    "  str_sample = as.character ( sample - 1 )\n",
    "  df_residual_variance[[ str_sample ]] = residual_variance\n",
    "  \n",
    "  print ( '--------------------------------------------------------'  ) \n",
    " \n",
    "  list_df_residual_variance[[ sample ]]  = df_residual_variance \n",
    "} "
   ]
  },
  {
   "cell_type": "code",
   "execution_count": 11,
   "id": "b0a01fe2",
   "metadata": {},
   "outputs": [
    {
     "name": "stdout",
     "output_type": "stream",
     "text": [
      "      gene_vector          0          1\n",
      "1 ENSG00000000419 0.87870455 1.14293142\n",
      "2 ENSG00000000457 0.36943663 0.46791485\n",
      "3 ENSG00000000460 0.09660799 0.09763996\n",
      "4 ENSG00000000938 1.49990399 1.52813510\n",
      "5 ENSG00000000971 0.15858405 0.17405765\n",
      "6 ENSG00000001036 0.73151767 1.07396048\n"
     ]
    }
   ],
   "source": [
    "df_residual_variance_return = merge ( list_df_residual_variance[[1]], list_df_residual_variance[[2]], by=c(\"gene_vector\") )\n",
    "print ( head ( df_residual_variance_return ) ) "
   ]
  },
  {
   "cell_type": "code",
   "execution_count": 12,
   "id": "c9edb02d",
   "metadata": {},
   "outputs": [],
   "source": [
    "py_save_object ( df_residual_variance_return, residual_variance_dsn )"
   ]
  },
  {
   "cell_type": "code",
   "execution_count": null,
   "id": "3780f1e3",
   "metadata": {},
   "outputs": [],
   "source": []
  }
 ],
 "metadata": {
  "kernelspec": {
   "display_name": "R",
   "language": "R",
   "name": "ir"
  },
  "language_info": {
   "codemirror_mode": "r",
   "file_extension": ".r",
   "mimetype": "text/x-r-source",
   "name": "R",
   "pygments_lexer": "r",
   "version": "4.2.2"
  }
 },
 "nbformat": 4,
 "nbformat_minor": 5
}
