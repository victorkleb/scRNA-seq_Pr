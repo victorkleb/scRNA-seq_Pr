{
 "cells": [
  {
   "cell_type": "code",
   "execution_count": 1,
   "id": "958be615",
   "metadata": {},
   "outputs": [],
   "source": [
    "import pandas as pd\n",
    "import numpy  as np \n",
    " \n",
    "from pathlib import Path\n",
    "\n",
    "from scipy.io import mmread\n",
    "\n",
    "\n",
    "pd.set_option('display.max_columns', 5)"
   ]
  },
  {
   "cell_type": "code",
   "execution_count": 2,
   "id": "bfa13866",
   "metadata": {},
   "outputs": [],
   "source": [
    "#### user specified\n",
    "data_folder = \"D:/analyze_Pearson_residuals/\"\n",
    "\n",
    "data_subfolder = \"10k_brain\"\n",
    "\n",
    "data_path = Path ( data_folder + data_subfolder )\n",
    "\n",
    "clusters_folder = data_folder + data_subfolder + \"/clustering/kmeans_10_clusters\" \n",
    "clusters_path = Path ( clusters_folder )"
   ]
  },
  {
   "cell_type": "code",
   "execution_count": 3,
   "id": "e3b2f9e5",
   "metadata": {},
   "outputs": [],
   "source": [
    "counts_pkl = \"counts_sparse.pkl\" # sparse Pandas data frame: cells in columns; genes in rows\n",
    "clusters_pkl = \"clusters.pkl\"\n",
    "\n",
    "\n",
    "matrix_mtx = \"matrix.mtx\"\n",
    "genes_tsv  = \"features.tsv\"\n",
    "cells_tsv = \"barcodes.tsv\"\n",
    "\n",
    "clusters_csv = \"clusters.csv\"\n",
    "\n",
    "\n",
    "# pkl outputs\n",
    "counts_dsn = data_path / counts_pkl\n",
    "clusters_out_dsn = data_path / clusters_pkl\n",
    "\n",
    "\n",
    "# inputs\n",
    "matrix_dsn  = data_path / matrix_mtx\n",
    "genes_dsn = data_path / genes_tsv\n",
    "cells_dsn = data_path / cells_tsv\n",
    "clusters_in_dsn = clusters_path / clusters_csv"
   ]
  },
  {
   "cell_type": "code",
   "execution_count": 4,
   "id": "0344d5a0",
   "metadata": {},
   "outputs": [],
   "source": [
    "pctl_list = [.01,.05, .10, .25, .5, .75, .90, .95, .96, .97, .98, .99, .995, .999 ]"
   ]
  },
  {
   "cell_type": "code",
   "execution_count": 5,
   "id": "69cd08bd",
   "metadata": {},
   "outputs": [
    {
     "name": "stdout",
     "output_type": "stream",
     "text": [
      " df_clusters \n",
      "                     Cluster\n",
      "Barcode                    \n",
      "AAACCCAAGCAACTCT-1        7\n",
      "AAACCCACACGCGGTT-1        2\n",
      "AAACCCACAGCATACT-1        3\n",
      "AAACCCACATACCATG-1        4\n",
      "AAACCCAGTCGCACAC-1        7\n",
      "...                     ...\n",
      "TTTGTTGGTAGCTAAA-1        1\n",
      "TTTGTTGGTATCCCAA-1        2\n",
      "TTTGTTGGTCCGAAAG-1        2\n",
      "TTTGTTGGTTCAACGT-1        2\n",
      "TTTGTTGTCCGTTTCG-1        1\n",
      "\n",
      "[11843 rows x 1 columns]\n",
      "\n",
      "\n",
      " df_clusters.value_counts \n",
      "\n",
      "1     3274\n",
      "2     2978\n",
      "3     1820\n",
      "4     1410\n",
      "5      762\n",
      "6      730\n",
      "7      664\n",
      "8       83\n",
      "9       78\n",
      "10      44\n",
      "Name: Cluster, dtype: int64\n"
     ]
    }
   ],
   "source": [
    "df_clusters = pd.read_csv ( clusters_in_dsn  )\n",
    "df_clusters.set_index ( ['Barcode'], inplace=True )\n",
    "print ( ' df_clusters \\n', df_clusters )\n",
    "print ( '\\n\\n df_clusters.value_counts \\n' )\n",
    "print ( df_clusters['Cluster'].value_counts() )"
   ]
  },
  {
   "cell_type": "code",
   "execution_count": 6,
   "id": "31a6e877",
   "metadata": {},
   "outputs": [
    {
     "name": "stdout",
     "output_type": "stream",
     "text": [
      " df_genes \n",
      "\n",
      "                ENSEMBL_ID     gene_symbol\n",
      "0      ENSMUSG00000051951            Xkr4\n",
      "1      ENSMUSG00000089699          Gm1992\n",
      "2      ENSMUSG00000102343         Gm37381\n",
      "3      ENSMUSG00000025900             Rp1\n",
      "4      ENSMUSG00000025902           Sox17\n",
      "...                   ...             ...\n",
      "31048  ENSMUSG00000079808      AC168977.1\n",
      "31049  ENSMUSG00000095041      AC149090.1\n",
      "31050  ENSMUSG00000063897  CAAA01118383.1\n",
      "31051  ENSMUSG00000096730        Vmn2r122\n",
      "31052  ENSMUSG00000095742  CAAA01147332.1\n",
      "\n",
      "[31053 rows x 2 columns]\n"
     ]
    }
   ],
   "source": [
    "df_genes = pd.read_csv ( genes_dsn, sep='\\t', names = ['ENSEMBL_ID','gene_symbol'], usecols =[0,1] ) \n",
    "print (  ' df_genes \\n\\n', df_genes)"
   ]
  },
  {
   "cell_type": "code",
   "execution_count": 7,
   "id": "cf04a3f8",
   "metadata": {},
   "outputs": [
    {
     "name": "stdout",
     "output_type": "stream",
     "text": [
      " df_cells \n",
      "\n",
      "                  barcodes\n",
      "0      AAACCCAAGCAACTCT-1\n",
      "1      AAACCCACACGCGGTT-1\n",
      "2      AAACCCACAGCATACT-1\n",
      "3      AAACCCACATACCATG-1\n",
      "4      AAACCCAGTCGCACAC-1\n",
      "...                   ...\n",
      "11838  TTTGTTGGTAGCTAAA-1\n",
      "11839  TTTGTTGGTATCCCAA-1\n",
      "11840  TTTGTTGGTCCGAAAG-1\n",
      "11841  TTTGTTGGTTCAACGT-1\n",
      "11842  TTTGTTGTCCGTTTCG-1\n",
      "\n",
      "[11843 rows x 1 columns]\n",
      "\n",
      "\n",
      " len(barcode_list):  11843\n"
     ]
    }
   ],
   "source": [
    "# read barcodes - to index sparse Pandas data frame containing UMI counts\n",
    "df_cells = pd.read_csv ( cells_dsn, sep='\\t', names = ['barcodes'] ) \n",
    "print (  ' df_cells \\n\\n', df_cells )\n",
    "\n",
    "barcode_list = df_cells['barcodes'].values.tolist()\n",
    "print (  '\\n\\n len(barcode_list): ', len(barcode_list))"
   ]
  },
  {
   "cell_type": "code",
   "execution_count": 8,
   "id": "c075f414",
   "metadata": {},
   "outputs": [
    {
     "name": "stdout",
     "output_type": "stream",
     "text": [
      " nonzero_row.sum: \n",
      "\n",
      " 21080\n"
     ]
    }
   ],
   "source": [
    "X = mmread( matrix_dsn ).astype( int )\n",
    "X = X.tocsr()\n",
    "\n",
    "X_GT_0 = ( X > 0 )\n",
    "row_nonzero_count = X_GT_0.sum ( axis = 1 ) \n",
    "\n",
    "\n",
    "####  exclude genes with no nonzero counts\n",
    "nonzero_row = ( row_nonzero_count >= 1 ) \n",
    "print (  ' nonzero_row.sum: \\n\\n', nonzero_row.sum())"
   ]
  },
  {
   "cell_type": "code",
   "execution_count": 9,
   "id": "8484b940",
   "metadata": {},
   "outputs": [
    {
     "name": "stdout",
     "output_type": "stream",
     "text": [
      " index_nonzero_rows: [    0     3     4 ... 31049 31050 31052]\n",
      "\n",
      " df_genes_sel \n",
      "\n",
      "                ENSEMBL_ID     gene_symbol\n",
      "0      ENSMUSG00000051951            Xkr4\n",
      "3      ENSMUSG00000025900             Rp1\n",
      "4      ENSMUSG00000025902           Sox17\n",
      "6      ENSMUSG00000033845          Mrpl15\n",
      "7      ENSMUSG00000025903          Lypla1\n",
      "...                   ...             ...\n",
      "31034  ENSMUSG00000094350         Gm10931\n",
      "31048  ENSMUSG00000079808      AC168977.1\n",
      "31049  ENSMUSG00000095041      AC149090.1\n",
      "31050  ENSMUSG00000063897  CAAA01118383.1\n",
      "31052  ENSMUSG00000095742  CAAA01147332.1\n",
      "\n",
      "[21080 rows x 2 columns]\n"
     ]
    }
   ],
   "source": [
    "index_nonzero_rows = np.where( nonzero_row )[0]\n",
    "print (  ' index_nonzero_rows:', index_nonzero_rows )\n",
    "\n",
    "df_genes_sel = df_genes.iloc [ index_nonzero_rows ]\n",
    "print (  '\\n df_genes_sel \\n\\n', df_genes_sel)"
   ]
  },
  {
   "cell_type": "code",
   "execution_count": 10,
   "id": "726b1bf2",
   "metadata": {},
   "outputs": [
    {
     "name": "stdout",
     "output_type": "stream",
     "text": [
      " df_counts_sel:                     AAACCCAAGCAACTCT-1  AAACCCACACGCGGTT-1  ...  \\\n",
      "ENSEMBL_ID                                                  ...   \n",
      "ENSMUSG00000051951                   0                   0  ...   \n",
      "ENSMUSG00000025900                   0                   0  ...   \n",
      "ENSMUSG00000025902                   0                   0  ...   \n",
      "ENSMUSG00000033845                   0                   2  ...   \n",
      "ENSMUSG00000025903                   0                   0  ...   \n",
      "...                                ...                 ...  ...   \n",
      "ENSMUSG00000094350                   0                   0  ...   \n",
      "ENSMUSG00000079808                   0                   0  ...   \n",
      "ENSMUSG00000095041                   0                   0  ...   \n",
      "ENSMUSG00000063897                   0                   0  ...   \n",
      "ENSMUSG00000095742                   0                   0  ...   \n",
      "\n",
      "                    TTTGTTGGTTCAACGT-1  TTTGTTGTCCGTTTCG-1  \n",
      "ENSEMBL_ID                                                  \n",
      "ENSMUSG00000051951                   0                   0  \n",
      "ENSMUSG00000025900                   0                   0  \n",
      "ENSMUSG00000025902                   0                   0  \n",
      "ENSMUSG00000033845                   0                   0  \n",
      "ENSMUSG00000025903                   0                   0  \n",
      "...                                ...                 ...  \n",
      "ENSMUSG00000094350                   0                   0  \n",
      "ENSMUSG00000079808                   0                   0  \n",
      "ENSMUSG00000095041                   0                   5  \n",
      "ENSMUSG00000063897                   0                   1  \n",
      "ENSMUSG00000095742                   0                   0  \n",
      "\n",
      "[21080 rows x 11843 columns]\n",
      "\n",
      " type( df_counts_sel ) <class 'pandas.core.frame.DataFrame'>\n",
      "\n",
      " df_counts_sel.sparse.density:   0.12626562164280586\n"
     ]
    }
   ],
   "source": [
    "X_sel = X[ index_nonzero_rows, : ]\n",
    "\n",
    "df_counts_sel =  pd.DataFrame.sparse.from_spmatrix(X_sel, index=df_genes_sel['ENSEMBL_ID'], columns=barcode_list )\n",
    "print (  ' df_counts_sel:', df_counts_sel)\n",
    "print (  '\\n type( df_counts_sel )' , type ( df_counts_sel ))\n",
    "print (  '\\n df_counts_sel.sparse.density:  ', df_counts_sel.sparse.density)"
   ]
  },
  {
   "cell_type": "code",
   "execution_count": 11,
   "id": "2ae09ab2",
   "metadata": {},
   "outputs": [
    {
     "name": "stdout",
     "output_type": "stream",
     "text": [
      " ser_cell_totals.describe:\n",
      "count    11843.000000\n",
      "mean      7601.197332\n",
      "std       5343.160165\n",
      "min        500.000000\n",
      "1%         611.420000\n",
      "5%        1030.100000\n",
      "10%       1692.000000\n",
      "25%       3636.500000\n",
      "50%       6570.000000\n",
      "75%      10418.000000\n",
      "90%      14636.800000\n",
      "95%      17393.300000\n",
      "96%      18297.880000\n",
      "97%      19491.760000\n",
      "98%      21495.760000\n",
      "99%      24622.380000\n",
      "99.5%    27710.030000\n",
      "99.9%    36620.050000\n",
      "max      57349.000000\n",
      "dtype: float64\n",
      "\n",
      " ser_cell_totals_GT_0.describe:\n",
      "count    11843.000000\n",
      "mean      7601.197332\n",
      "std       5343.160165\n",
      "min        500.000000\n",
      "1%         611.420000\n",
      "5%        1030.100000\n",
      "10%       1692.000000\n",
      "25%       3636.500000\n",
      "50%       6570.000000\n",
      "75%      10418.000000\n",
      "90%      14636.800000\n",
      "95%      17393.300000\n",
      "96%      18297.880000\n",
      "97%      19491.760000\n",
      "98%      21495.760000\n",
      "99%      24622.380000\n",
      "99.5%    27710.030000\n",
      "99.9%    36620.050000\n",
      "max      57349.000000\n",
      "dtype: float64\n"
     ]
    }
   ],
   "source": [
    "# verify that all cells have nonzero total count\n",
    "ser_cell_totals = df_counts_sel.sum ( axis=0 ) \n",
    "print (  ' ser_cell_totals.describe:')\n",
    "print ( ser_cell_totals.describe( percentiles = pctl_list ) )\n",
    "\n",
    "ser_cell_totals_GT_0 = ser_cell_totals.loc [ ser_cell_totals > 0 ]\n",
    "print (  '\\n ser_cell_totals_GT_0.describe:' )\n",
    "print ( ser_cell_totals_GT_0.describe( percentiles = pctl_list ) )"
   ]
  },
  {
   "cell_type": "code",
   "execution_count": 12,
   "id": "50f2164c",
   "metadata": {},
   "outputs": [
    {
     "name": "stdout",
     "output_type": "stream",
     "text": [
      " df_counts_sparse:\n",
      "                    AAACCCAAGCAACTCT-1  AAACCCACACGCGGTT-1  ...  \\\n",
      "ENSEMBL_ID                                                  ...   \n",
      "ENSMUSG00000051951                   0                   0  ...   \n",
      "ENSMUSG00000025900                   0                   0  ...   \n",
      "ENSMUSG00000025902                   0                   0  ...   \n",
      "ENSMUSG00000033845                   0                   2  ...   \n",
      "ENSMUSG00000025903                   0                   0  ...   \n",
      "...                                ...                 ...  ...   \n",
      "ENSMUSG00000094350                   0                   0  ...   \n",
      "ENSMUSG00000079808                   0                   0  ...   \n",
      "ENSMUSG00000095041                   0                   0  ...   \n",
      "ENSMUSG00000063897                   0                   0  ...   \n",
      "ENSMUSG00000095742                   0                   0  ...   \n",
      "\n",
      "                    TTTGTTGGTTCAACGT-1  TTTGTTGTCCGTTTCG-1  \n",
      "ENSEMBL_ID                                                  \n",
      "ENSMUSG00000051951                   0                   0  \n",
      "ENSMUSG00000025900                   0                   0  \n",
      "ENSMUSG00000025902                   0                   0  \n",
      "ENSMUSG00000033845                   0                   0  \n",
      "ENSMUSG00000025903                   0                   0  \n",
      "...                                ...                 ...  \n",
      "ENSMUSG00000094350                   0                   0  \n",
      "ENSMUSG00000079808                   0                   0  \n",
      "ENSMUSG00000095041                   0                   5  \n",
      "ENSMUSG00000063897                   0                   1  \n",
      "ENSMUSG00000095742                   0                   0  \n",
      "\n",
      "[21080 rows x 11843 columns]\n",
      "\n",
      " type( df_counts_sparse )  <class 'pandas.core.frame.DataFrame'>\n",
      "\n",
      " df_counts_sparse.sparse.density:  0.12626562164280586\n",
      "\n",
      " ser_cell_totals:\n",
      "AAACCCAAGCAACTCT-1    1421\n",
      "AAACCCACACGCGGTT-1    5833\n",
      "AAACCCACAGCATACT-1    2978\n",
      "AAACCCACATACCATG-1    3599\n",
      "AAACCCAGTCGCACAC-1    9152\n",
      "                      ... \n",
      "TTTGTTGGTAGCTAAA-1    9756\n",
      "TTTGTTGGTATCCCAA-1    4231\n",
      "TTTGTTGGTCCGAAAG-1    2415\n",
      "TTTGTTGGTTCAACGT-1    6103\n",
      "TTTGTTGTCCGTTTCG-1    4163\n",
      "Length: 11843, dtype: int32\n",
      "\n",
      " ser_cell_totals.describe:\n",
      "count    11843.000000\n",
      "mean      7601.197332\n",
      "std       5343.160165\n",
      "min        500.000000\n",
      "1%         611.420000\n",
      "5%        1030.100000\n",
      "10%       1692.000000\n",
      "25%       3636.500000\n",
      "50%       6570.000000\n",
      "75%      10418.000000\n",
      "90%      14636.800000\n",
      "95%      17393.300000\n",
      "96%      18297.880000\n",
      "97%      19491.760000\n",
      "98%      21495.760000\n",
      "99%      24622.380000\n",
      "99.5%    27710.030000\n",
      "99.9%    36620.050000\n",
      "max      57349.000000\n",
      "dtype: float64\n"
     ]
    }
   ],
   "source": [
    "df_counts_sparse = df_counts_sel[ ser_cell_totals_GT_0.index ]\n",
    "print (  ' df_counts_sparse:' )\n",
    "print (  df_counts_sparse )\n",
    "print (  '\\n type( df_counts_sparse ) ', type ( df_counts_sparse ))\n",
    "print (  '\\n df_counts_sparse.sparse.density: ', df_counts_sparse.sparse.density)\n",
    "\n",
    "ser_cell_totals = df_counts_sparse.sum ( axis=0 )\n",
    "print (  '\\n ser_cell_totals:' )\n",
    "print (  ser_cell_totals )\n",
    "print (  '\\n ser_cell_totals.describe:')\n",
    "print ( ser_cell_totals.describe( percentiles = pctl_list ))"
   ]
  },
  {
   "cell_type": "code",
   "execution_count": 13,
   "id": "0f3f61df",
   "metadata": {},
   "outputs": [],
   "source": [
    "df_counts_sparse.to_pickle ( counts_dsn )\n",
    "df_clusters.to_pickle ( clusters_out_dsn )"
   ]
  },
  {
   "cell_type": "code",
   "execution_count": null,
   "id": "a01fe938",
   "metadata": {},
   "outputs": [],
   "source": []
  }
 ],
 "metadata": {
  "kernelspec": {
   "display_name": "Python 3 (ipykernel)",
   "language": "python",
   "name": "python3"
  },
  "language_info": {
   "codemirror_mode": {
    "name": "ipython",
    "version": 3
   },
   "file_extension": ".py",
   "mimetype": "text/x-python",
   "name": "python",
   "nbconvert_exporter": "python",
   "pygments_lexer": "ipython3",
   "version": "3.9.13"
  }
 },
 "nbformat": 4,
 "nbformat_minor": 5
}
