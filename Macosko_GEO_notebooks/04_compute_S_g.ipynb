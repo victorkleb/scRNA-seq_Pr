{
 "cells": [
  {
   "cell_type": "code",
   "execution_count": 1,
   "id": "01f7fc36",
   "metadata": {},
   "outputs": [
    {
     "name": "stderr",
     "output_type": "stream",
     "text": [
      "Attaching SeuratObject\n",
      "\n"
     ]
    }
   ],
   "source": [
    "library(reticulate) \n",
    "library(Seurat)"
   ]
  },
  {
   "cell_type": "code",
   "execution_count": 2,
   "id": "cca67c9c",
   "metadata": {},
   "outputs": [],
   "source": [
    "#### user specified\n",
    "\n",
    "data_folder = \"D:/analyze_Pearson_residuals/\"\n",
    "data_subfolder = \"Macosko_GEO\"\n",
    "\n",
    "data_path  <- paste0 ( data_folder, data_subfolder )"
   ]
  },
  {
   "cell_type": "code",
   "execution_count": 3,
   "id": "dfd2fdf3",
   "metadata": {},
   "outputs": [],
   "source": [
    "# output data\n",
    "residual_variance_pkl = \"SCT_v2_residual_variance.pkl\"\n",
    "Pearson_residuals_pkl = \"SCT_v2_Pearson_residuals_top_2000.pkl\"\n",
    "\n",
    "# input data\n",
    "gene_array_pkl  = \"gene_array.pkl\"\n",
    "cell_array_pkl  = \"cell_array.pkl\"\n",
    "counts_pkl = \"counts_scipy_csc.pkl\"\n",
    "\n",
    "\n",
    "\n",
    "# paths: output data\n",
    "residual_variance_dsn    <- paste0 ( data_path, '/', residual_variance_pkl )\n",
    "Pearson_residuals_dsn    <- paste0 ( data_path, '/', Pearson_residuals_pkl )\n",
    "\n",
    "# paths: input data\n",
    "gene_array_dsn    <- paste0 ( data_path, '/', gene_array_pkl )\n",
    "cell_array_dsn   <- paste0 ( data_path, '/', cell_array_pkl )\n",
    "counts_dsn    <- paste0 ( data_path, '/', counts_pkl )"
   ]
  },
  {
   "cell_type": "code",
   "execution_count": 4,
   "id": "5589e4e7",
   "metadata": {},
   "outputs": [
    {
     "name": "stdout",
     "output_type": "stream",
     "text": [
      "[1] 13552\n",
      "[1] \"CARTPT\"  \"RGS5\"    \"RHO\"     \"APOE\"    \"GLUL\"    \"MT-RNR2\"\n"
     ]
    }
   ],
   "source": [
    "gene_array = py_load_object ( gene_array_dsn )\n",
    "print ( dim ( gene_array ) )\n",
    "print ( head ( gene_array ) )"
   ]
  },
  {
   "cell_type": "code",
   "execution_count": 5,
   "id": "fc49688b",
   "metadata": {},
   "outputs": [
    {
     "name": "stdout",
     "output_type": "stream",
     "text": [
      "[1] 24769\n",
      "[1] \"r4_TGCCACATGGGC\" \"r4_ATCGGCTACCGA\" \"r4_TAGATATCTTAT\" \"r4_CCTGGATTGTAC\"\n",
      "[5] \"r4_CGGTAATAGGAA\" \"r4_CAACCGAATATA\"\n"
     ]
    }
   ],
   "source": [
    "cell_array = py_load_object ( cell_array_dsn )\n",
    "print ( dim ( cell_array ) )\n",
    "print ( head ( cell_array ) )"
   ]
  },
  {
   "cell_type": "code",
   "execution_count": 6,
   "id": "5a500b54",
   "metadata": {},
   "outputs": [
    {
     "name": "stdout",
     "output_type": "stream",
     "text": [
      "[1] 13552 24769\n",
      "6 x 5 sparse Matrix of class \"dgCMatrix\"\n",
      "        r4_TGCCACATGGGC r4_ATCGGCTACCGA r4_TAGATATCTTAT r4_CCTGGATTGTAC\n",
      "CARTPT                .              45             166               1\n",
      "RGS5                  .               .               .               .\n",
      "RHO                 496               5               4               2\n",
      "APOE                  .               .               .               .\n",
      "GLUL                  7               4               1               3\n",
      "MT-RNR2              69              49              51              77\n",
      "        r4_CGGTAATAGGAA\n",
      "CARTPT              102\n",
      "RGS5                  1\n",
      "RHO                   3\n",
      "APOE                  .\n",
      "GLUL                  5\n",
      "MT-RNR2              72\n"
     ]
    }
   ],
   "source": [
    "df_counts = py_load_object( counts_dsn ) \n",
    "\n",
    "rownames(df_counts) <- gene_array\n",
    "colnames(df_counts) <- cell_array\n",
    "\n",
    "print ( dim ( df_counts ) )\n",
    "print ( head (df_counts [, c(1:5)] ) )"
   ]
  },
  {
   "cell_type": "code",
   "execution_count": 7,
   "id": "d55b30d2",
   "metadata": {},
   "outputs": [
    {
     "name": "stdout",
     "output_type": "stream",
     "text": [
      "[1] 13552 24769\n"
     ]
    }
   ],
   "source": [
    "seurat_object <-  CreateSeuratObject(counts = df_counts , project = data_subfolder )\n",
    "print ( dim ( seurat_object ) )"
   ]
  },
  {
   "cell_type": "code",
   "execution_count": 8,
   "id": "2528d692",
   "metadata": {},
   "outputs": [
    {
     "name": "stderr",
     "output_type": "stream",
     "text": [
      "vst.flavor='v2' set, setting model to use fixed slope and exclude poisson genes.\n",
      "\n",
      "Calculating cell attributes from input UMI matrix: log_umi\n",
      "\n",
      "Total Step 1 genes: 13546\n",
      "\n",
      "Total overdispersed genes: 13507\n",
      "\n",
      "Excluding 39 genes from Step 1 because they are not overdispersed.\n",
      "\n",
      "Variance stabilizing transformation of count matrix of size 13552 by 24769\n",
      "\n",
      "Model formula is y ~ log_umi\n",
      "\n",
      "Get Negative Binomial regression parameters per gene\n",
      "\n",
      "Using 2000 genes, 5000 cells\n",
      "\n"
     ]
    },
    {
     "name": "stdout",
     "output_type": "stream",
     "text": [
      "  |======================================================================| 100%\n"
     ]
    },
    {
     "name": "stderr",
     "output_type": "stream",
     "text": [
      "Setting estimate of  97 genes to inf as theta_mm/theta_mle < 1e-3\n",
      "\n",
      "# of step1 poisson genes (variance < mean): 0\n",
      "\n",
      "# of low mean genes (mean < 0.001): 0\n",
      "\n",
      "Total # of Step1 poisson genes (theta=Inf; variance < mean): 97\n",
      "\n",
      "Total # of poisson genes (theta=Inf; variance < mean): 39\n",
      "\n",
      "Calling offset model for all 39 poisson genes\n",
      "\n",
      "Found 121 outliers - those will be ignored in fitting/regularization step\n",
      "\n",
      "\n",
      "Ignoring theta inf genes\n",
      "\n",
      "Replacing fit params for 39 poisson genes by theta=Inf\n",
      "\n",
      "Setting min_variance based on median UMI:  0.04\n",
      "\n",
      "Second step: Get residuals using fitted parameters for 13552 genes\n",
      "\n"
     ]
    },
    {
     "name": "stdout",
     "output_type": "stream",
     "text": [
      "  |======================================================================| 100%\n"
     ]
    },
    {
     "name": "stderr",
     "output_type": "stream",
     "text": [
      "Computing corrected count matrix for 13552 genes\n",
      "\n"
     ]
    },
    {
     "name": "stdout",
     "output_type": "stream",
     "text": [
      "  |======================================================================| 100%\n"
     ]
    },
    {
     "name": "stderr",
     "output_type": "stream",
     "text": [
      "Calculating gene attributes\n",
      "\n",
      "Wall clock passed: Time difference of 1.434405 mins\n",
      "\n",
      "Determine variable features\n",
      "\n",
      "Place corrected count matrix in counts slot\n",
      "\n",
      "Centering data matrix\n",
      "\n",
      "Set default assay to SCT\n",
      "\n"
     ]
    },
    {
     "name": "stdout",
     "output_type": "stream",
     "text": [
      "[1] 13552     1\n"
     ]
    }
   ],
   "source": [
    "seurat_object <- SCTransform(seurat_object, vst.flavor=\"v2\", method = \"glmGamPoi\", variable.features.n=2000 )\n",
    "\n",
    "gene_list = seurat_object@assays$SCT@data@Dimnames[1]\n",
    "gene_vector = unlist ( gene_list )\n",
    "\n",
    "residual_variance = seurat_object@assays$SCT@SCTModel.list$model1@feature.attributes$residual_variance\n",
    "df_residual_variance <- data.frame( residual_variance )\n",
    "row.names( df_residual_variance ) <- gene_vector\n",
    "print ( dim ( df_residual_variance ) ) "
   ]
  },
  {
   "cell_type": "code",
   "execution_count": 9,
   "id": "54b90526",
   "metadata": {},
   "outputs": [
    {
     "name": "stdout",
     "output_type": "stream",
     "text": [
      "[1]  2000 24769\n"
     ]
    }
   ],
   "source": [
    "SCT_assay =  seurat_object@assays$SCT\n",
    "residuals_top_features = SCT_assay@scale.data\n",
    "print ( dim ( residuals_top_features ) )"
   ]
  },
  {
   "cell_type": "code",
   "execution_count": 10,
   "id": "95703f69",
   "metadata": {},
   "outputs": [],
   "source": [
    "py_save_object ( df_residual_variance, residual_variance_dsn )\n",
    "py_save_object ( as.data.frame ( residuals_top_features ), Pearson_residuals_dsn )"
   ]
  },
  {
   "cell_type": "code",
   "execution_count": null,
   "id": "253789cc",
   "metadata": {},
   "outputs": [],
   "source": []
  }
 ],
 "metadata": {
  "kernelspec": {
   "display_name": "R",
   "language": "R",
   "name": "ir"
  },
  "language_info": {
   "codemirror_mode": "r",
   "file_extension": ".r",
   "mimetype": "text/x-r-source",
   "name": "R",
   "pygments_lexer": "r",
   "version": "4.2.2"
  }
 },
 "nbformat": 4,
 "nbformat_minor": 5
}
